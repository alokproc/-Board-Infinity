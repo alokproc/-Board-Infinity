{
  "nbformat": 4,
  "nbformat_minor": 0,
  "metadata": {
    "accelerator": "GPU",
    "colab": {
      "name": "Deep Learning Practical Exam Set 1 Notebook.ipynb",
      "provenance": [],
      "collapsed_sections": [],
      "include_colab_link": true
    },
    "kernelspec": {
      "display_name": "Python 3",
      "language": "python",
      "name": "python3"
    },
    "language_info": {
      "codemirror_mode": {
        "name": "ipython",
        "version": 3
      },
      "file_extension": ".py",
      "mimetype": "text/x-python",
      "name": "python",
      "nbconvert_exporter": "python",
      "pygments_lexer": "ipython3",
      "version": "3.8.3"
    }
  },
  "cells": [
    {
      "cell_type": "markdown",
      "metadata": {
        "id": "view-in-github",
        "colab_type": "text"
      },
      "source": [
        "<a href=\"https://colab.research.google.com/github/alokproc/-Board-Infinity/blob/master/Deep_Learning_Practical_Exam_Set_1_Notebook.ipynb\" target=\"_parent\"><img src=\"https://colab.research.google.com/assets/colab-badge.svg\" alt=\"Open In Colab\"/></a>"
      ]
    },
    {
      "cell_type": "markdown",
      "metadata": {
        "id": "qU7XFuvK7ohE"
      },
      "source": [
        "#Neural Network & Deep learning Practical Paper \n",
        "\n",
        "This Paper  has 1 case study\n",
        "\n",
        "The case study (described below - 50 Marks) covers concepts taught in principle of deep learning\n",
        " \n",
        "1st case study - Project 1:\n",
        " \n",
        "The case study is from an open source dataset from Kaggle. \n",
        "\n",
        "Link to the Kaggle project site:\n",
        "https://www.kaggle.com/barelydedicated/bank-customer-churn-modeling\n",
        "\n",
        "Given a Bank customer, can we build a classifier which can determine whether they will leave or not using Neural networks?\n",
        "\n",
        "Case file: \n",
        "\n",
        "Dataset - bank.csv\n",
        " \n",
        "The points distribution for this case is as follows:\n",
        "1. Read the dataset in a new python notebook.(5 Marks)\n",
        "2. Drop the columns which are unique for all users like IDs (5 Marks)\n",
        "3. Apply Label Encoders  covert to catogorical type.(5 Marks)\n",
        "4. Distinguish the feature and target set (5 Marks)\n",
        "5. Divide the data set into Train and test sets (5 Marks)\n",
        "6. Normalize the train and test data (5 Marks)\n",
        "7. Initialize &amp ((5 Marks) \n",
        "9. Train the model ( 10 Marks )\n",
        "10. Plot Final Train Accuracy from model ( 10 Marks)\n",
        "11. Find the best optimizer for  the model (10 Marks)\n",
        "12. Find the best Learning rate(10 Marks)\n",
        "\n"
      ]
    },
    {
      "cell_type": "code",
      "metadata": {
        "colab": {
          "base_uri": "https://localhost:8080/",
          "height": 0
        },
        "id": "1pZVApv4-AvF",
        "outputId": "15fa4051-629e-4730-b334-74b73e9995e8"
      },
      "source": [
        "from google.colab import drive\n",
        "drive.mount('/content/drive')"
      ],
      "execution_count": 1,
      "outputs": [
        {
          "output_type": "stream",
          "text": [
            "Mounted at /content/drive\n"
          ],
          "name": "stdout"
        }
      ]
    },
    {
      "cell_type": "code",
      "metadata": {
        "colab": {
          "base_uri": "https://localhost:8080/",
          "height": 0
        },
        "id": "e_M6lChzMhXR",
        "outputId": "bf0bedb6-8a7c-4897-e3ce-259afb7b7ada"
      },
      "source": [
        "#%tensorflow_version 2.x\n",
        "# TensorFlow and tf.keras\n",
        "import tensorflow as tf\n",
        "from tensorflow import keras\n",
        "tf.random.set_seed(42)\n",
        "print(tf.__version__)\n",
        "#From tensorflow v2.0 onwards, Eager Execution will be enabled by default"
      ],
      "execution_count": 2,
      "outputs": [
        {
          "output_type": "stream",
          "text": [
            "2.4.1\n"
          ],
          "name": "stdout"
        }
      ]
    },
    {
      "cell_type": "markdown",
      "metadata": {
        "id": "aqcqr2zm9MIt"
      },
      "source": [
        "##1. Read the dataset in a new python notebook.  (5 Marks)"
      ]
    },
    {
      "cell_type": "code",
      "metadata": {
        "id": "IUs4jo2j9Hk3"
      },
      "source": [
        "import numpy as np\n",
        "import pandas as pd\n",
        "import seaborn as sns\n",
        "import matplotlib.pyplot as plt\n",
        "%matplotlib inline\n",
        "\n",
        "import warnings\n",
        "warnings.filterwarnings('ignore')"
      ],
      "execution_count": 3,
      "outputs": []
    },
    {
      "cell_type": "code",
      "metadata": {
        "id": "vKEpSlkq_3R6"
      },
      "source": [
        "bank_data = ="
      ],
      "execution_count": 5,
      "outputs": []
    },
    {
      "cell_type": "code",
      "metadata": {
        "colab": {
          "base_uri": "https://localhost:8080/",
          "height": 379
        },
        "id": "psOJB4gvA6kY",
        "outputId": "d71f3256-8bda-459a-81ca-a6c9fc4824bf"
      },
      "source": [
        "bank_data.sample(10)"
      ],
      "execution_count": 6,
      "outputs": [
        {
          "output_type": "execute_result",
          "data": {
            "text/html": [
              "<div>\n",
              "<style scoped>\n",
              "    .dataframe tbody tr th:only-of-type {\n",
              "        vertical-align: middle;\n",
              "    }\n",
              "\n",
              "    .dataframe tbody tr th {\n",
              "        vertical-align: top;\n",
              "    }\n",
              "\n",
              "    .dataframe thead th {\n",
              "        text-align: right;\n",
              "    }\n",
              "</style>\n",
              "<table border=\"1\" class=\"dataframe\">\n",
              "  <thead>\n",
              "    <tr style=\"text-align: right;\">\n",
              "      <th></th>\n",
              "      <th>RowNumber</th>\n",
              "      <th>CustomerId</th>\n",
              "      <th>Surname</th>\n",
              "      <th>CreditScore</th>\n",
              "      <th>Geography</th>\n",
              "      <th>Gender</th>\n",
              "      <th>Age</th>\n",
              "      <th>Tenure</th>\n",
              "      <th>Balance</th>\n",
              "      <th>NumOfProducts</th>\n",
              "      <th>HasCrCard</th>\n",
              "      <th>IsActiveMember</th>\n",
              "      <th>EstimatedSalary</th>\n",
              "      <th>Exited</th>\n",
              "    </tr>\n",
              "  </thead>\n",
              "  <tbody>\n",
              "    <tr>\n",
              "      <th>4018</th>\n",
              "      <td>4019</td>\n",
              "      <td>15690209</td>\n",
              "      <td>Hsiao</td>\n",
              "      <td>715</td>\n",
              "      <td>Germany</td>\n",
              "      <td>Female</td>\n",
              "      <td>32</td>\n",
              "      <td>3</td>\n",
              "      <td>104857.19</td>\n",
              "      <td>2</td>\n",
              "      <td>1</td>\n",
              "      <td>0</td>\n",
              "      <td>114149.80</td>\n",
              "      <td>0</td>\n",
              "    </tr>\n",
              "    <tr>\n",
              "      <th>1709</th>\n",
              "      <td>1710</td>\n",
              "      <td>15713843</td>\n",
              "      <td>Kao</td>\n",
              "      <td>850</td>\n",
              "      <td>Spain</td>\n",
              "      <td>Male</td>\n",
              "      <td>30</td>\n",
              "      <td>2</td>\n",
              "      <td>0.00</td>\n",
              "      <td>2</td>\n",
              "      <td>0</td>\n",
              "      <td>1</td>\n",
              "      <td>27937.12</td>\n",
              "      <td>0</td>\n",
              "    </tr>\n",
              "    <tr>\n",
              "      <th>5279</th>\n",
              "      <td>5280</td>\n",
              "      <td>15731330</td>\n",
              "      <td>Tsui</td>\n",
              "      <td>652</td>\n",
              "      <td>Spain</td>\n",
              "      <td>Female</td>\n",
              "      <td>40</td>\n",
              "      <td>7</td>\n",
              "      <td>100471.34</td>\n",
              "      <td>1</td>\n",
              "      <td>1</td>\n",
              "      <td>1</td>\n",
              "      <td>124550.88</td>\n",
              "      <td>0</td>\n",
              "    </tr>\n",
              "    <tr>\n",
              "      <th>6720</th>\n",
              "      <td>6721</td>\n",
              "      <td>15647207</td>\n",
              "      <td>Onwuemelie</td>\n",
              "      <td>609</td>\n",
              "      <td>France</td>\n",
              "      <td>Male</td>\n",
              "      <td>26</td>\n",
              "      <td>7</td>\n",
              "      <td>0.00</td>\n",
              "      <td>2</td>\n",
              "      <td>1</td>\n",
              "      <td>0</td>\n",
              "      <td>98463.99</td>\n",
              "      <td>0</td>\n",
              "    </tr>\n",
              "    <tr>\n",
              "      <th>2299</th>\n",
              "      <td>2300</td>\n",
              "      <td>15763171</td>\n",
              "      <td>Hu</td>\n",
              "      <td>650</td>\n",
              "      <td>Germany</td>\n",
              "      <td>Female</td>\n",
              "      <td>25</td>\n",
              "      <td>2</td>\n",
              "      <td>114330.95</td>\n",
              "      <td>1</td>\n",
              "      <td>1</td>\n",
              "      <td>1</td>\n",
              "      <td>25325.07</td>\n",
              "      <td>0</td>\n",
              "    </tr>\n",
              "    <tr>\n",
              "      <th>6964</th>\n",
              "      <td>6965</td>\n",
              "      <td>15569249</td>\n",
              "      <td>Howarth</td>\n",
              "      <td>576</td>\n",
              "      <td>France</td>\n",
              "      <td>Female</td>\n",
              "      <td>55</td>\n",
              "      <td>6</td>\n",
              "      <td>44582.07</td>\n",
              "      <td>3</td>\n",
              "      <td>0</td>\n",
              "      <td>1</td>\n",
              "      <td>67539.85</td>\n",
              "      <td>1</td>\n",
              "    </tr>\n",
              "    <tr>\n",
              "      <th>3141</th>\n",
              "      <td>3142</td>\n",
              "      <td>15769596</td>\n",
              "      <td>Yen</td>\n",
              "      <td>710</td>\n",
              "      <td>Germany</td>\n",
              "      <td>Female</td>\n",
              "      <td>24</td>\n",
              "      <td>2</td>\n",
              "      <td>110407.44</td>\n",
              "      <td>2</td>\n",
              "      <td>0</td>\n",
              "      <td>0</td>\n",
              "      <td>15832.43</td>\n",
              "      <td>1</td>\n",
              "    </tr>\n",
              "    <tr>\n",
              "      <th>2157</th>\n",
              "      <td>2158</td>\n",
              "      <td>15750649</td>\n",
              "      <td>Uwakwe</td>\n",
              "      <td>744</td>\n",
              "      <td>France</td>\n",
              "      <td>Female</td>\n",
              "      <td>44</td>\n",
              "      <td>3</td>\n",
              "      <td>0.00</td>\n",
              "      <td>2</td>\n",
              "      <td>1</td>\n",
              "      <td>1</td>\n",
              "      <td>189016.14</td>\n",
              "      <td>0</td>\n",
              "    </tr>\n",
              "    <tr>\n",
              "      <th>9658</th>\n",
              "      <td>9659</td>\n",
              "      <td>15712264</td>\n",
              "      <td>Plumb</td>\n",
              "      <td>713</td>\n",
              "      <td>France</td>\n",
              "      <td>Female</td>\n",
              "      <td>39</td>\n",
              "      <td>10</td>\n",
              "      <td>0.00</td>\n",
              "      <td>2</td>\n",
              "      <td>1</td>\n",
              "      <td>1</td>\n",
              "      <td>126263.97</td>\n",
              "      <td>0</td>\n",
              "    </tr>\n",
              "    <tr>\n",
              "      <th>947</th>\n",
              "      <td>948</td>\n",
              "      <td>15741336</td>\n",
              "      <td>Ejimofor</td>\n",
              "      <td>715</td>\n",
              "      <td>France</td>\n",
              "      <td>Female</td>\n",
              "      <td>38</td>\n",
              "      <td>5</td>\n",
              "      <td>118590.41</td>\n",
              "      <td>1</td>\n",
              "      <td>1</td>\n",
              "      <td>1</td>\n",
              "      <td>5684.17</td>\n",
              "      <td>1</td>\n",
              "    </tr>\n",
              "  </tbody>\n",
              "</table>\n",
              "</div>"
            ],
            "text/plain": [
              "      RowNumber  CustomerId  ... EstimatedSalary  Exited\n",
              "4018       4019    15690209  ...       114149.80       0\n",
              "1709       1710    15713843  ...        27937.12       0\n",
              "5279       5280    15731330  ...       124550.88       0\n",
              "6720       6721    15647207  ...        98463.99       0\n",
              "2299       2300    15763171  ...        25325.07       0\n",
              "6964       6965    15569249  ...        67539.85       1\n",
              "3141       3142    15769596  ...        15832.43       1\n",
              "2157       2158    15750649  ...       189016.14       0\n",
              "9658       9659    15712264  ...       126263.97       0\n",
              "947         948    15741336  ...         5684.17       1\n",
              "\n",
              "[10 rows x 14 columns]"
            ]
          },
          "metadata": {
            "tags": []
          },
          "execution_count": 6
        }
      ]
    },
    {
      "cell_type": "code",
      "metadata": {
        "colab": {
          "base_uri": "https://localhost:8080/",
          "height": 0
        },
        "id": "5V0mQCTJAPas",
        "outputId": "a27e6c92-62bc-4a5d-933b-77fbba19a334"
      },
      "source": [
        "bank_data.shape"
      ],
      "execution_count": 7,
      "outputs": [
        {
          "output_type": "execute_result",
          "data": {
            "text/plain": [
              "(10000, 14)"
            ]
          },
          "metadata": {
            "tags": []
          },
          "execution_count": 7
        }
      ]
    },
    {
      "cell_type": "code",
      "metadata": {
        "colab": {
          "base_uri": "https://localhost:8080/",
          "height": 0
        },
        "id": "wHu833n4AYUu",
        "outputId": "2a37c698-1a97-4d62-c5d4-4228c268279d"
      },
      "source": [
        "bank_data.info()"
      ],
      "execution_count": 8,
      "outputs": [
        {
          "output_type": "stream",
          "text": [
            "<class 'pandas.core.frame.DataFrame'>\n",
            "RangeIndex: 10000 entries, 0 to 9999\n",
            "Data columns (total 14 columns):\n",
            " #   Column           Non-Null Count  Dtype  \n",
            "---  ------           --------------  -----  \n",
            " 0   RowNumber        10000 non-null  int64  \n",
            " 1   CustomerId       10000 non-null  int64  \n",
            " 2   Surname          10000 non-null  object \n",
            " 3   CreditScore      10000 non-null  int64  \n",
            " 4   Geography        10000 non-null  object \n",
            " 5   Gender           10000 non-null  object \n",
            " 6   Age              10000 non-null  int64  \n",
            " 7   Tenure           10000 non-null  int64  \n",
            " 8   Balance          10000 non-null  float64\n",
            " 9   NumOfProducts    10000 non-null  int64  \n",
            " 10  HasCrCard        10000 non-null  int64  \n",
            " 11  IsActiveMember   10000 non-null  int64  \n",
            " 12  EstimatedSalary  10000 non-null  float64\n",
            " 13  Exited           10000 non-null  int64  \n",
            "dtypes: float64(2), int64(9), object(3)\n",
            "memory usage: 1.1+ MB\n"
          ],
          "name": "stdout"
        }
      ]
    },
    {
      "cell_type": "markdown",
      "metadata": {
        "id": "dEwpm08vB-JF"
      },
      "source": [
        "###Insights\n",
        "- We have 10000 rows and 14 features.\n",
        "- Some of the features like Rownumber, CustomerId, Surname will not be useful for evaluation as they are unique for all users which does not describe any characteristics for our predictions. These features can be dropped.\n",
        "- There are some features with object type. These features should be converted to category or Label encoding should be done before evaluation.\n",
        "- The target feature Exited is of binary type (0 or 1)\n",
        "- All the features have varied scale of measurement. Noramlization should be done before evaluation."
      ]
    },
    {
      "cell_type": "markdown",
      "metadata": {
        "id": "yTy38vCt9Ppp"
      },
      "source": [
        "##2. Drop the columns which are unique for all users like IDs (5 Marks)"
      ]
    },
    {
      "cell_type": "code",
      "metadata": {
        "colab": {
          "base_uri": "https://localhost:8080/",
          "height": 0
        },
        "id": "-3FmAAKvBNBx",
        "outputId": "fd6f400a-fd0c-49a4-a067-4d06c850ba76"
      },
      "source": [
        "# Count unique values for each column in our dataset \n",
        "for i  in bank_data.columns:\n",
        "    print(i, \":\", bank_data[i].nunique())"
      ],
      "execution_count": 9,
      "outputs": [
        {
          "output_type": "stream",
          "text": [
            "RowNumber : 10000\n",
            "CustomerId : 10000\n",
            "Surname : 2932\n",
            "CreditScore : 460\n",
            "Geography : 3\n",
            "Gender : 2\n",
            "Age : 70\n",
            "Tenure : 11\n",
            "Balance : 6382\n",
            "NumOfProducts : 4\n",
            "HasCrCard : 2\n",
            "IsActiveMember : 2\n",
            "EstimatedSalary : 9999\n",
            "Exited : 2\n"
          ],
          "name": "stdout"
        }
      ]
    },
    {
      "cell_type": "code",
      "metadata": {
        "id": "3Dkwk9ra9aVh"
      },
      "source": [
        "bank_data.drop([                    ], axis = 1, inplace = True)"
      ],
      "execution_count": 10,
      "outputs": []
    },
    {
      "cell_type": "code",
      "metadata": {
        "colab": {
          "base_uri": "https://localhost:8080/",
          "height": 0
        },
        "id": "PCaSESlc9aQe",
        "outputId": "02f00736-143e-40cc-8287-33431248ba04"
      },
      "source": [
        "bank_data.shape"
      ],
      "execution_count": 11,
      "outputs": [
        {
          "output_type": "execute_result",
          "data": {
            "text/plain": [
              "(10000, 11)"
            ]
          },
          "metadata": {
            "tags": []
          },
          "execution_count": 11
        }
      ]
    },
    {
      "cell_type": "code",
      "metadata": {
        "colab": {
          "base_uri": "https://localhost:8080/",
          "height": 359
        },
        "id": "W-VI2oT2DB9E",
        "outputId": "2a6069e0-fea6-4d7e-be2a-ed11866f683d"
      },
      "source": [
        "bank_data.sample(10)"
      ],
      "execution_count": 12,
      "outputs": [
        {
          "output_type": "execute_result",
          "data": {
            "text/html": [
              "<div>\n",
              "<style scoped>\n",
              "    .dataframe tbody tr th:only-of-type {\n",
              "        vertical-align: middle;\n",
              "    }\n",
              "\n",
              "    .dataframe tbody tr th {\n",
              "        vertical-align: top;\n",
              "    }\n",
              "\n",
              "    .dataframe thead th {\n",
              "        text-align: right;\n",
              "    }\n",
              "</style>\n",
              "<table border=\"1\" class=\"dataframe\">\n",
              "  <thead>\n",
              "    <tr style=\"text-align: right;\">\n",
              "      <th></th>\n",
              "      <th>CreditScore</th>\n",
              "      <th>Geography</th>\n",
              "      <th>Gender</th>\n",
              "      <th>Age</th>\n",
              "      <th>Tenure</th>\n",
              "      <th>Balance</th>\n",
              "      <th>NumOfProducts</th>\n",
              "      <th>HasCrCard</th>\n",
              "      <th>IsActiveMember</th>\n",
              "      <th>EstimatedSalary</th>\n",
              "      <th>Exited</th>\n",
              "    </tr>\n",
              "  </thead>\n",
              "  <tbody>\n",
              "    <tr>\n",
              "      <th>5953</th>\n",
              "      <td>516</td>\n",
              "      <td>Spain</td>\n",
              "      <td>Female</td>\n",
              "      <td>31</td>\n",
              "      <td>7</td>\n",
              "      <td>0.00</td>\n",
              "      <td>1</td>\n",
              "      <td>1</td>\n",
              "      <td>0</td>\n",
              "      <td>47018.75</td>\n",
              "      <td>0</td>\n",
              "    </tr>\n",
              "    <tr>\n",
              "      <th>3990</th>\n",
              "      <td>708</td>\n",
              "      <td>France</td>\n",
              "      <td>Male</td>\n",
              "      <td>32</td>\n",
              "      <td>10</td>\n",
              "      <td>86614.06</td>\n",
              "      <td>2</td>\n",
              "      <td>1</td>\n",
              "      <td>1</td>\n",
              "      <td>172129.26</td>\n",
              "      <td>0</td>\n",
              "    </tr>\n",
              "    <tr>\n",
              "      <th>8950</th>\n",
              "      <td>461</td>\n",
              "      <td>France</td>\n",
              "      <td>Female</td>\n",
              "      <td>35</td>\n",
              "      <td>5</td>\n",
              "      <td>0.00</td>\n",
              "      <td>1</td>\n",
              "      <td>1</td>\n",
              "      <td>1</td>\n",
              "      <td>54209.02</td>\n",
              "      <td>0</td>\n",
              "    </tr>\n",
              "    <tr>\n",
              "      <th>1625</th>\n",
              "      <td>680</td>\n",
              "      <td>France</td>\n",
              "      <td>Male</td>\n",
              "      <td>44</td>\n",
              "      <td>3</td>\n",
              "      <td>0.00</td>\n",
              "      <td>2</td>\n",
              "      <td>1</td>\n",
              "      <td>0</td>\n",
              "      <td>86935.08</td>\n",
              "      <td>0</td>\n",
              "    </tr>\n",
              "    <tr>\n",
              "      <th>6063</th>\n",
              "      <td>762</td>\n",
              "      <td>France</td>\n",
              "      <td>Male</td>\n",
              "      <td>31</td>\n",
              "      <td>7</td>\n",
              "      <td>117687.35</td>\n",
              "      <td>1</td>\n",
              "      <td>1</td>\n",
              "      <td>1</td>\n",
              "      <td>159344.43</td>\n",
              "      <td>0</td>\n",
              "    </tr>\n",
              "    <tr>\n",
              "      <th>5343</th>\n",
              "      <td>727</td>\n",
              "      <td>France</td>\n",
              "      <td>Male</td>\n",
              "      <td>47</td>\n",
              "      <td>7</td>\n",
              "      <td>0.00</td>\n",
              "      <td>2</td>\n",
              "      <td>1</td>\n",
              "      <td>0</td>\n",
              "      <td>193305.35</td>\n",
              "      <td>0</td>\n",
              "    </tr>\n",
              "    <tr>\n",
              "      <th>4503</th>\n",
              "      <td>656</td>\n",
              "      <td>France</td>\n",
              "      <td>Male</td>\n",
              "      <td>33</td>\n",
              "      <td>7</td>\n",
              "      <td>138705.02</td>\n",
              "      <td>2</td>\n",
              "      <td>1</td>\n",
              "      <td>0</td>\n",
              "      <td>37136.15</td>\n",
              "      <td>0</td>\n",
              "    </tr>\n",
              "    <tr>\n",
              "      <th>2025</th>\n",
              "      <td>634</td>\n",
              "      <td>France</td>\n",
              "      <td>Male</td>\n",
              "      <td>45</td>\n",
              "      <td>9</td>\n",
              "      <td>0.00</td>\n",
              "      <td>2</td>\n",
              "      <td>0</td>\n",
              "      <td>0</td>\n",
              "      <td>17622.82</td>\n",
              "      <td>0</td>\n",
              "    </tr>\n",
              "    <tr>\n",
              "      <th>1540</th>\n",
              "      <td>530</td>\n",
              "      <td>Germany</td>\n",
              "      <td>Male</td>\n",
              "      <td>23</td>\n",
              "      <td>1</td>\n",
              "      <td>137060.88</td>\n",
              "      <td>2</td>\n",
              "      <td>1</td>\n",
              "      <td>1</td>\n",
              "      <td>165227.23</td>\n",
              "      <td>0</td>\n",
              "    </tr>\n",
              "    <tr>\n",
              "      <th>3009</th>\n",
              "      <td>551</td>\n",
              "      <td>France</td>\n",
              "      <td>Male</td>\n",
              "      <td>31</td>\n",
              "      <td>1</td>\n",
              "      <td>0.00</td>\n",
              "      <td>2</td>\n",
              "      <td>1</td>\n",
              "      <td>1</td>\n",
              "      <td>185105.44</td>\n",
              "      <td>0</td>\n",
              "    </tr>\n",
              "  </tbody>\n",
              "</table>\n",
              "</div>"
            ],
            "text/plain": [
              "      CreditScore Geography  Gender  ...  IsActiveMember  EstimatedSalary  Exited\n",
              "5953          516     Spain  Female  ...               0         47018.75       0\n",
              "3990          708    France    Male  ...               1        172129.26       0\n",
              "8950          461    France  Female  ...               1         54209.02       0\n",
              "1625          680    France    Male  ...               0         86935.08       0\n",
              "6063          762    France    Male  ...               1        159344.43       0\n",
              "5343          727    France    Male  ...               0        193305.35       0\n",
              "4503          656    France    Male  ...               0         37136.15       0\n",
              "2025          634    France    Male  ...               0         17622.82       0\n",
              "1540          530   Germany    Male  ...               1        165227.23       0\n",
              "3009          551    France    Male  ...               1        185105.44       0\n",
              "\n",
              "[10 rows x 11 columns]"
            ]
          },
          "metadata": {
            "tags": []
          },
          "execution_count": 12
        }
      ]
    },
    {
      "cell_type": "code",
      "metadata": {
        "colab": {
          "base_uri": "https://localhost:8080/",
          "height": 0
        },
        "id": "tV6FDTSyEAzq",
        "outputId": "88ce11e4-5056-4626-c4ce-ab68ad189f3f"
      },
      "source": [
        "bank_data.info()"
      ],
      "execution_count": 13,
      "outputs": [
        {
          "output_type": "stream",
          "text": [
            "<class 'pandas.core.frame.DataFrame'>\n",
            "RangeIndex: 10000 entries, 0 to 9999\n",
            "Data columns (total 11 columns):\n",
            " #   Column           Non-Null Count  Dtype  \n",
            "---  ------           --------------  -----  \n",
            " 0   CreditScore      10000 non-null  int64  \n",
            " 1   Geography        10000 non-null  object \n",
            " 2   Gender           10000 non-null  object \n",
            " 3   Age              10000 non-null  int64  \n",
            " 4   Tenure           10000 non-null  int64  \n",
            " 5   Balance          10000 non-null  float64\n",
            " 6   NumOfProducts    10000 non-null  int64  \n",
            " 7   HasCrCard        10000 non-null  int64  \n",
            " 8   IsActiveMember   10000 non-null  int64  \n",
            " 9   EstimatedSalary  10000 non-null  float64\n",
            " 10  Exited           10000 non-null  int64  \n",
            "dtypes: float64(2), int64(7), object(2)\n",
            "memory usage: 859.5+ KB\n"
          ],
          "name": "stdout"
        }
      ]
    },
    {
      "cell_type": "markdown",
      "metadata": {
        "id": "WGJUBjBdrcB7"
      },
      "source": [
        "##3. From above \"Geography\" and \"Gender\" are appearing to be object type variables.\n",
        "##3. Apply Label Encoders  covert to catogorical type.(5 Marks)"
      ]
    },
    {
      "cell_type": "code",
      "metadata": {
        "colab": {
          "base_uri": "https://localhost:8080/",
          "height": 359
        },
        "id": "PPEQ3WQfEQB-",
        "outputId": "faddc603-0261-4215-9b3c-972170c61d36"
      },
      "source": [
        "# From above \"Geography\" and \"Gender\" are appearing to be object type variables.\n",
        "# I we want to apply Label Encoders then it must be coverted to catogorical type.\n",
        "\n",
        "bank_data[\"Geography\"] = bank_data[\"Geography\"].astype('category')\n",
        "bank_data[\"Gender\"] = bank_data[\"Gender\"].astype('category')\n",
        "\n",
        "bank_data[\"Geography\"] = \n",
        "bank_data[\"Gender\"] = \n",
        "bank_data.sample(10)"
      ],
      "execution_count": 14,
      "outputs": [
        {
          "output_type": "execute_result",
          "data": {
            "text/html": [
              "<div>\n",
              "<style scoped>\n",
              "    .dataframe tbody tr th:only-of-type {\n",
              "        vertical-align: middle;\n",
              "    }\n",
              "\n",
              "    .dataframe tbody tr th {\n",
              "        vertical-align: top;\n",
              "    }\n",
              "\n",
              "    .dataframe thead th {\n",
              "        text-align: right;\n",
              "    }\n",
              "</style>\n",
              "<table border=\"1\" class=\"dataframe\">\n",
              "  <thead>\n",
              "    <tr style=\"text-align: right;\">\n",
              "      <th></th>\n",
              "      <th>CreditScore</th>\n",
              "      <th>Geography</th>\n",
              "      <th>Gender</th>\n",
              "      <th>Age</th>\n",
              "      <th>Tenure</th>\n",
              "      <th>Balance</th>\n",
              "      <th>NumOfProducts</th>\n",
              "      <th>HasCrCard</th>\n",
              "      <th>IsActiveMember</th>\n",
              "      <th>EstimatedSalary</th>\n",
              "      <th>Exited</th>\n",
              "    </tr>\n",
              "  </thead>\n",
              "  <tbody>\n",
              "    <tr>\n",
              "      <th>7260</th>\n",
              "      <td>773</td>\n",
              "      <td>0</td>\n",
              "      <td>0</td>\n",
              "      <td>41</td>\n",
              "      <td>7</td>\n",
              "      <td>190238.93</td>\n",
              "      <td>1</td>\n",
              "      <td>1</td>\n",
              "      <td>1</td>\n",
              "      <td>57549.65</td>\n",
              "      <td>0</td>\n",
              "    </tr>\n",
              "    <tr>\n",
              "      <th>3349</th>\n",
              "      <td>665</td>\n",
              "      <td>1</td>\n",
              "      <td>0</td>\n",
              "      <td>45</td>\n",
              "      <td>5</td>\n",
              "      <td>155447.65</td>\n",
              "      <td>2</td>\n",
              "      <td>1</td>\n",
              "      <td>0</td>\n",
              "      <td>51871.95</td>\n",
              "      <td>1</td>\n",
              "    </tr>\n",
              "    <tr>\n",
              "      <th>2174</th>\n",
              "      <td>646</td>\n",
              "      <td>0</td>\n",
              "      <td>1</td>\n",
              "      <td>26</td>\n",
              "      <td>4</td>\n",
              "      <td>139848.17</td>\n",
              "      <td>1</td>\n",
              "      <td>1</td>\n",
              "      <td>0</td>\n",
              "      <td>164696.27</td>\n",
              "      <td>0</td>\n",
              "    </tr>\n",
              "    <tr>\n",
              "      <th>4256</th>\n",
              "      <td>596</td>\n",
              "      <td>2</td>\n",
              "      <td>0</td>\n",
              "      <td>76</td>\n",
              "      <td>9</td>\n",
              "      <td>134208.25</td>\n",
              "      <td>1</td>\n",
              "      <td>1</td>\n",
              "      <td>1</td>\n",
              "      <td>13455.43</td>\n",
              "      <td>0</td>\n",
              "    </tr>\n",
              "    <tr>\n",
              "      <th>5616</th>\n",
              "      <td>805</td>\n",
              "      <td>2</td>\n",
              "      <td>1</td>\n",
              "      <td>26</td>\n",
              "      <td>2</td>\n",
              "      <td>0.00</td>\n",
              "      <td>2</td>\n",
              "      <td>1</td>\n",
              "      <td>1</td>\n",
              "      <td>25042.10</td>\n",
              "      <td>0</td>\n",
              "    </tr>\n",
              "    <tr>\n",
              "      <th>3255</th>\n",
              "      <td>507</td>\n",
              "      <td>0</td>\n",
              "      <td>0</td>\n",
              "      <td>29</td>\n",
              "      <td>4</td>\n",
              "      <td>89349.47</td>\n",
              "      <td>2</td>\n",
              "      <td>0</td>\n",
              "      <td>0</td>\n",
              "      <td>180626.68</td>\n",
              "      <td>0</td>\n",
              "    </tr>\n",
              "    <tr>\n",
              "      <th>5495</th>\n",
              "      <td>721</td>\n",
              "      <td>0</td>\n",
              "      <td>1</td>\n",
              "      <td>35</td>\n",
              "      <td>10</td>\n",
              "      <td>0.00</td>\n",
              "      <td>2</td>\n",
              "      <td>1</td>\n",
              "      <td>0</td>\n",
              "      <td>71594.26</td>\n",
              "      <td>0</td>\n",
              "    </tr>\n",
              "    <tr>\n",
              "      <th>1645</th>\n",
              "      <td>506</td>\n",
              "      <td>1</td>\n",
              "      <td>0</td>\n",
              "      <td>41</td>\n",
              "      <td>3</td>\n",
              "      <td>57745.76</td>\n",
              "      <td>1</td>\n",
              "      <td>1</td>\n",
              "      <td>0</td>\n",
              "      <td>4035.46</td>\n",
              "      <td>0</td>\n",
              "    </tr>\n",
              "    <tr>\n",
              "      <th>5765</th>\n",
              "      <td>520</td>\n",
              "      <td>0</td>\n",
              "      <td>1</td>\n",
              "      <td>30</td>\n",
              "      <td>3</td>\n",
              "      <td>143396.54</td>\n",
              "      <td>2</td>\n",
              "      <td>1</td>\n",
              "      <td>1</td>\n",
              "      <td>898.51</td>\n",
              "      <td>0</td>\n",
              "    </tr>\n",
              "    <tr>\n",
              "      <th>8754</th>\n",
              "      <td>776</td>\n",
              "      <td>0</td>\n",
              "      <td>0</td>\n",
              "      <td>43</td>\n",
              "      <td>4</td>\n",
              "      <td>0.00</td>\n",
              "      <td>2</td>\n",
              "      <td>0</td>\n",
              "      <td>1</td>\n",
              "      <td>162137.50</td>\n",
              "      <td>0</td>\n",
              "    </tr>\n",
              "  </tbody>\n",
              "</table>\n",
              "</div>"
            ],
            "text/plain": [
              "      CreditScore  Geography  Gender  ...  IsActiveMember  EstimatedSalary  Exited\n",
              "7260          773          0       0  ...               1         57549.65       0\n",
              "3349          665          1       0  ...               0         51871.95       1\n",
              "2174          646          0       1  ...               0        164696.27       0\n",
              "4256          596          2       0  ...               1         13455.43       0\n",
              "5616          805          2       1  ...               1         25042.10       0\n",
              "3255          507          0       0  ...               0        180626.68       0\n",
              "5495          721          0       1  ...               0         71594.26       0\n",
              "1645          506          1       0  ...               0          4035.46       0\n",
              "5765          520          0       1  ...               1           898.51       0\n",
              "8754          776          0       0  ...               1        162137.50       0\n",
              "\n",
              "[10 rows x 11 columns]"
            ]
          },
          "metadata": {
            "tags": []
          },
          "execution_count": 14
        }
      ]
    },
    {
      "cell_type": "code",
      "metadata": {
        "colab": {
          "base_uri": "https://localhost:8080/",
          "height": 0
        },
        "id": "umB3azmbEP8J",
        "outputId": "a6924614-3531-41d3-a964-1dc6761b4913"
      },
      "source": [
        "#Lets check if the conversion has taken lpace\n",
        "bank_data.info()"
      ],
      "execution_count": 15,
      "outputs": [
        {
          "output_type": "stream",
          "text": [
            "<class 'pandas.core.frame.DataFrame'>\n",
            "RangeIndex: 10000 entries, 0 to 9999\n",
            "Data columns (total 11 columns):\n",
            " #   Column           Non-Null Count  Dtype  \n",
            "---  ------           --------------  -----  \n",
            " 0   CreditScore      10000 non-null  int64  \n",
            " 1   Geography        10000 non-null  int8   \n",
            " 2   Gender           10000 non-null  int8   \n",
            " 3   Age              10000 non-null  int64  \n",
            " 4   Tenure           10000 non-null  int64  \n",
            " 5   Balance          10000 non-null  float64\n",
            " 6   NumOfProducts    10000 non-null  int64  \n",
            " 7   HasCrCard        10000 non-null  int64  \n",
            " 8   IsActiveMember   10000 non-null  int64  \n",
            " 9   EstimatedSalary  10000 non-null  float64\n",
            " 10  Exited           10000 non-null  int64  \n",
            "dtypes: float64(2), int64(7), int8(2)\n",
            "memory usage: 722.8 KB\n"
          ],
          "name": "stdout"
        }
      ]
    },
    {
      "cell_type": "markdown",
      "metadata": {
        "id": "p6_-RYWKGMHX"
      },
      "source": [
        "###Insights\n",
        "- After dropping the irrelevant features, we are left with 10 features and a target.\n",
        "- Also we have converted the Gender and Geography features to category codes."
      ]
    },
    {
      "cell_type": "markdown",
      "metadata": {
        "id": "adGQ3gku9b_U"
      },
      "source": [
        "##4. Distinguish the feature and target set (5 Marks)"
      ]
    },
    {
      "cell_type": "code",
      "metadata": {
        "id": "5GxkXEk09fJw"
      },
      "source": [
        "#Feature data set\n",
        "X=\n",
        "#Target data set\n",
        "y="
      ],
      "execution_count": 16,
      "outputs": []
    },
    {
      "cell_type": "code",
      "metadata": {
        "colab": {
          "base_uri": "https://localhost:8080/",
          "height": 34
        },
        "id": "w8yNplss9fU4",
        "outputId": "bd1a18fc-e654-4a8a-bb81-34d117daa020"
      },
      "source": [
        "X.shape"
      ],
      "execution_count": null,
      "outputs": [
        {
          "output_type": "execute_result",
          "data": {
            "text/plain": [
              "(10000, 10)"
            ]
          },
          "metadata": {
            "tags": []
          },
          "execution_count": 42
        }
      ]
    },
    {
      "cell_type": "code",
      "metadata": {
        "colab": {
          "base_uri": "https://localhost:8080/",
          "height": 204
        },
        "id": "kFDC8XEKGsev",
        "outputId": "fcb5bbe4-8e31-4ba3-9e0d-c98309fe42a2"
      },
      "source": [
        "X.head()"
      ],
      "execution_count": null,
      "outputs": [
        {
          "output_type": "execute_result",
          "data": {
            "text/html": [
              "<div>\n",
              "<style scoped>\n",
              "    .dataframe tbody tr th:only-of-type {\n",
              "        vertical-align: middle;\n",
              "    }\n",
              "\n",
              "    .dataframe tbody tr th {\n",
              "        vertical-align: top;\n",
              "    }\n",
              "\n",
              "    .dataframe thead th {\n",
              "        text-align: right;\n",
              "    }\n",
              "</style>\n",
              "<table border=\"1\" class=\"dataframe\">\n",
              "  <thead>\n",
              "    <tr style=\"text-align: right;\">\n",
              "      <th></th>\n",
              "      <th>CreditScore</th>\n",
              "      <th>Geography</th>\n",
              "      <th>Gender</th>\n",
              "      <th>Age</th>\n",
              "      <th>Tenure</th>\n",
              "      <th>Balance</th>\n",
              "      <th>NumOfProducts</th>\n",
              "      <th>HasCrCard</th>\n",
              "      <th>IsActiveMember</th>\n",
              "      <th>EstimatedSalary</th>\n",
              "    </tr>\n",
              "  </thead>\n",
              "  <tbody>\n",
              "    <tr>\n",
              "      <th>0</th>\n",
              "      <td>619</td>\n",
              "      <td>0</td>\n",
              "      <td>0</td>\n",
              "      <td>42</td>\n",
              "      <td>2</td>\n",
              "      <td>0.00</td>\n",
              "      <td>1</td>\n",
              "      <td>1</td>\n",
              "      <td>1</td>\n",
              "      <td>101348.88</td>\n",
              "    </tr>\n",
              "    <tr>\n",
              "      <th>1</th>\n",
              "      <td>608</td>\n",
              "      <td>2</td>\n",
              "      <td>0</td>\n",
              "      <td>41</td>\n",
              "      <td>1</td>\n",
              "      <td>83807.86</td>\n",
              "      <td>1</td>\n",
              "      <td>0</td>\n",
              "      <td>1</td>\n",
              "      <td>112542.58</td>\n",
              "    </tr>\n",
              "    <tr>\n",
              "      <th>2</th>\n",
              "      <td>502</td>\n",
              "      <td>0</td>\n",
              "      <td>0</td>\n",
              "      <td>42</td>\n",
              "      <td>8</td>\n",
              "      <td>159660.80</td>\n",
              "      <td>3</td>\n",
              "      <td>1</td>\n",
              "      <td>0</td>\n",
              "      <td>113931.57</td>\n",
              "    </tr>\n",
              "    <tr>\n",
              "      <th>3</th>\n",
              "      <td>699</td>\n",
              "      <td>0</td>\n",
              "      <td>0</td>\n",
              "      <td>39</td>\n",
              "      <td>1</td>\n",
              "      <td>0.00</td>\n",
              "      <td>2</td>\n",
              "      <td>0</td>\n",
              "      <td>0</td>\n",
              "      <td>93826.63</td>\n",
              "    </tr>\n",
              "    <tr>\n",
              "      <th>4</th>\n",
              "      <td>850</td>\n",
              "      <td>2</td>\n",
              "      <td>0</td>\n",
              "      <td>43</td>\n",
              "      <td>2</td>\n",
              "      <td>125510.82</td>\n",
              "      <td>1</td>\n",
              "      <td>1</td>\n",
              "      <td>1</td>\n",
              "      <td>79084.10</td>\n",
              "    </tr>\n",
              "  </tbody>\n",
              "</table>\n",
              "</div>"
            ],
            "text/plain": [
              "   CreditScore  Geography  Gender  ...  HasCrCard  IsActiveMember  EstimatedSalary\n",
              "0          619          0       0  ...          1               1        101348.88\n",
              "1          608          2       0  ...          0               1        112542.58\n",
              "2          502          0       0  ...          1               0        113931.57\n",
              "3          699          0       0  ...          0               0         93826.63\n",
              "4          850          2       0  ...          1               1         79084.10\n",
              "\n",
              "[5 rows x 10 columns]"
            ]
          },
          "metadata": {
            "tags": []
          },
          "execution_count": 43
        }
      ]
    },
    {
      "cell_type": "code",
      "metadata": {
        "colab": {
          "base_uri": "https://localhost:8080/",
          "height": 34
        },
        "id": "PBPQ4MidGzq6",
        "outputId": "ce1809b4-34d7-414d-d642-1698cb34ec38"
      },
      "source": [
        "y.shape"
      ],
      "execution_count": null,
      "outputs": [
        {
          "output_type": "execute_result",
          "data": {
            "text/plain": [
              "(10000,)"
            ]
          },
          "metadata": {
            "tags": []
          },
          "execution_count": 44
        }
      ]
    },
    {
      "cell_type": "code",
      "metadata": {
        "colab": {
          "base_uri": "https://localhost:8080/",
          "height": 119
        },
        "id": "6KxAaL_lGw_m",
        "outputId": "e43c4e8f-bd31-4f2e-b46d-01db3c911cc2"
      },
      "source": [
        "y.head()"
      ],
      "execution_count": null,
      "outputs": [
        {
          "output_type": "execute_result",
          "data": {
            "text/plain": [
              "0    1\n",
              "1    0\n",
              "2    1\n",
              "3    0\n",
              "4    0\n",
              "Name: Exited, dtype: int64"
            ]
          },
          "metadata": {
            "tags": []
          },
          "execution_count": 45
        }
      ]
    },
    {
      "cell_type": "markdown",
      "metadata": {
        "id": "mX3uT3Cc9fhj"
      },
      "source": [
        "##5. Divide the data set into Train and test sets (5 Marks)"
      ]
    },
    {
      "cell_type": "code",
      "metadata": {
        "id": "SKHzvPVw9j6G"
      },
      "source": [
        "# Split the dataset into the ration of 70:30\n",
        "\n",
        "from sklearn.model_selection import train_test_split\n",
        "\n",
        "X_train, X_test, y_train, y_test = "
      ],
      "execution_count": 17,
      "outputs": []
    },
    {
      "cell_type": "code",
      "metadata": {
        "colab": {
          "base_uri": "https://localhost:8080/",
          "height": 0
        },
        "id": "GpePvtVc9kGm",
        "outputId": "235d21e6-d0c7-4cdc-ca48-7057174aaa1a"
      },
      "source": [
        "X_train.shape"
      ],
      "execution_count": 18,
      "outputs": [
        {
          "output_type": "execute_result",
          "data": {
            "text/plain": [
              "(7000, 10)"
            ]
          },
          "metadata": {
            "tags": []
          },
          "execution_count": 18
        }
      ]
    },
    {
      "cell_type": "code",
      "metadata": {
        "colab": {
          "base_uri": "https://localhost:8080/",
          "height": 0
        },
        "id": "sUcXuV9yI-yL",
        "outputId": "c17f9daa-3c4f-42b2-fa09-06e1be474cc6"
      },
      "source": [
        "X_test.shape"
      ],
      "execution_count": 19,
      "outputs": [
        {
          "output_type": "execute_result",
          "data": {
            "text/plain": [
              "(3000, 10)"
            ]
          },
          "metadata": {
            "tags": []
          },
          "execution_count": 19
        }
      ]
    },
    {
      "cell_type": "code",
      "metadata": {
        "colab": {
          "base_uri": "https://localhost:8080/",
          "height": 0
        },
        "id": "bUQGBzK19kD7",
        "outputId": "1a17b5bc-1942-493c-bfb2-13fd1937fc6e"
      },
      "source": [
        "y_train.shape"
      ],
      "execution_count": 20,
      "outputs": [
        {
          "output_type": "execute_result",
          "data": {
            "text/plain": [
              "(7000,)"
            ]
          },
          "metadata": {
            "tags": []
          },
          "execution_count": 20
        }
      ]
    },
    {
      "cell_type": "code",
      "metadata": {
        "colab": {
          "base_uri": "https://localhost:8080/",
          "height": 0
        },
        "id": "nbG-Le93JC1V",
        "outputId": "380a223e-4424-4b40-f961-6d71b139d2b8"
      },
      "source": [
        "y_test.shape"
      ],
      "execution_count": 21,
      "outputs": [
        {
          "output_type": "execute_result",
          "data": {
            "text/plain": [
              "(3000,)"
            ]
          },
          "metadata": {
            "tags": []
          },
          "execution_count": 21
        }
      ]
    },
    {
      "cell_type": "code",
      "metadata": {
        "colab": {
          "base_uri": "https://localhost:8080/",
          "height": 204
        },
        "id": "JdZm1hCzIGqA",
        "outputId": "4c4ca5d7-7871-4acd-dc65-59bfe202c5fa"
      },
      "source": [
        "X_train.sample(5)"
      ],
      "execution_count": 22,
      "outputs": [
        {
          "output_type": "execute_result",
          "data": {
            "text/html": [
              "<div>\n",
              "<style scoped>\n",
              "    .dataframe tbody tr th:only-of-type {\n",
              "        vertical-align: middle;\n",
              "    }\n",
              "\n",
              "    .dataframe tbody tr th {\n",
              "        vertical-align: top;\n",
              "    }\n",
              "\n",
              "    .dataframe thead th {\n",
              "        text-align: right;\n",
              "    }\n",
              "</style>\n",
              "<table border=\"1\" class=\"dataframe\">\n",
              "  <thead>\n",
              "    <tr style=\"text-align: right;\">\n",
              "      <th></th>\n",
              "      <th>CreditScore</th>\n",
              "      <th>Geography</th>\n",
              "      <th>Gender</th>\n",
              "      <th>Age</th>\n",
              "      <th>Tenure</th>\n",
              "      <th>Balance</th>\n",
              "      <th>NumOfProducts</th>\n",
              "      <th>HasCrCard</th>\n",
              "      <th>IsActiveMember</th>\n",
              "      <th>EstimatedSalary</th>\n",
              "    </tr>\n",
              "  </thead>\n",
              "  <tbody>\n",
              "    <tr>\n",
              "      <th>2322</th>\n",
              "      <td>567</td>\n",
              "      <td>2</td>\n",
              "      <td>0</td>\n",
              "      <td>41</td>\n",
              "      <td>1</td>\n",
              "      <td>0.00</td>\n",
              "      <td>2</td>\n",
              "      <td>1</td>\n",
              "      <td>0</td>\n",
              "      <td>3414.72</td>\n",
              "    </tr>\n",
              "    <tr>\n",
              "      <th>3793</th>\n",
              "      <td>727</td>\n",
              "      <td>1</td>\n",
              "      <td>1</td>\n",
              "      <td>58</td>\n",
              "      <td>5</td>\n",
              "      <td>106913.43</td>\n",
              "      <td>1</td>\n",
              "      <td>1</td>\n",
              "      <td>0</td>\n",
              "      <td>25881.00</td>\n",
              "    </tr>\n",
              "    <tr>\n",
              "      <th>9445</th>\n",
              "      <td>689</td>\n",
              "      <td>2</td>\n",
              "      <td>0</td>\n",
              "      <td>28</td>\n",
              "      <td>5</td>\n",
              "      <td>95328.60</td>\n",
              "      <td>1</td>\n",
              "      <td>1</td>\n",
              "      <td>0</td>\n",
              "      <td>6129.61</td>\n",
              "    </tr>\n",
              "    <tr>\n",
              "      <th>9140</th>\n",
              "      <td>449</td>\n",
              "      <td>0</td>\n",
              "      <td>0</td>\n",
              "      <td>21</td>\n",
              "      <td>7</td>\n",
              "      <td>0.00</td>\n",
              "      <td>2</td>\n",
              "      <td>0</td>\n",
              "      <td>0</td>\n",
              "      <td>175743.92</td>\n",
              "    </tr>\n",
              "    <tr>\n",
              "      <th>9283</th>\n",
              "      <td>562</td>\n",
              "      <td>0</td>\n",
              "      <td>0</td>\n",
              "      <td>27</td>\n",
              "      <td>3</td>\n",
              "      <td>0.00</td>\n",
              "      <td>2</td>\n",
              "      <td>1</td>\n",
              "      <td>0</td>\n",
              "      <td>28137.03</td>\n",
              "    </tr>\n",
              "  </tbody>\n",
              "</table>\n",
              "</div>"
            ],
            "text/plain": [
              "      CreditScore  Geography  ...  IsActiveMember  EstimatedSalary\n",
              "2322          567          2  ...               0          3414.72\n",
              "3793          727          1  ...               0         25881.00\n",
              "9445          689          2  ...               0          6129.61\n",
              "9140          449          0  ...               0        175743.92\n",
              "9283          562          0  ...               0         28137.03\n",
              "\n",
              "[5 rows x 10 columns]"
            ]
          },
          "metadata": {
            "tags": []
          },
          "execution_count": 22
        }
      ]
    },
    {
      "cell_type": "code",
      "metadata": {
        "colab": {
          "base_uri": "https://localhost:8080/",
          "height": 0
        },
        "id": "kU_ByfGaIG3l",
        "outputId": "77fbc0ab-fb0f-47d1-dffd-44ac0a117512"
      },
      "source": [
        "y_train.sample(5)"
      ],
      "execution_count": 23,
      "outputs": [
        {
          "output_type": "execute_result",
          "data": {
            "text/plain": [
              "9107    0\n",
              "7335    0\n",
              "1543    0\n",
              "4264    1\n",
              "2315    0\n",
              "Name: Exited, dtype: int64"
            ]
          },
          "metadata": {
            "tags": []
          },
          "execution_count": 23
        }
      ]
    },
    {
      "cell_type": "markdown",
      "metadata": {
        "id": "BfCpWQSQ9lAY"
      },
      "source": [
        "##6. Normalize the train and test data ((5 Marks) points)"
      ]
    },
    {
      "cell_type": "code",
      "metadata": {
        "id": "9vW5ZpCU9oWV"
      },
      "source": [
        "from scipy import stats\n",
        "\n",
        "X_train_Z = stats.zscore(X_train) \n",
        "X_test_Z = stats.zscore(X_test)"
      ],
      "execution_count": 24,
      "outputs": []
    },
    {
      "cell_type": "code",
      "metadata": {
        "id": "9yWQStr19oin"
      },
      "source": [
        "#We will have to convert train and test labels into one-hot vectors.\n",
        "y_train_OH = \n",
        "y_test_OH = "
      ],
      "execution_count": 25,
      "outputs": []
    },
    {
      "cell_type": "code",
      "metadata": {
        "colab": {
          "base_uri": "https://localhost:8080/",
          "height": 0
        },
        "id": "SI0h9yrMLeid",
        "outputId": "79ff21b5-1fe3-427d-9e70-d48a32746420"
      },
      "source": [
        "y_train[:10]"
      ],
      "execution_count": 26,
      "outputs": [
        {
          "output_type": "execute_result",
          "data": {
            "text/plain": [
              "5189    0\n",
              "7969    1\n",
              "9039    0\n",
              "5208    0\n",
              "506     0\n",
              "7060    0\n",
              "9403    0\n",
              "5087    1\n",
              "4239    0\n",
              "8884    1\n",
              "Name: Exited, dtype: int64"
            ]
          },
          "metadata": {
            "tags": []
          },
          "execution_count": 26
        }
      ]
    },
    {
      "cell_type": "code",
      "metadata": {
        "colab": {
          "base_uri": "https://localhost:8080/",
          "height": 0
        },
        "id": "n2e0iqFXN2mS",
        "outputId": "d10e0443-7ee2-4048-be3c-971ad482c65d"
      },
      "source": [
        "y_train_OH[:10]"
      ],
      "execution_count": 27,
      "outputs": [
        {
          "output_type": "execute_result",
          "data": {
            "text/plain": [
              "array([[1., 0.],\n",
              "       [0., 1.],\n",
              "       [1., 0.],\n",
              "       [1., 0.],\n",
              "       [1., 0.],\n",
              "       [1., 0.],\n",
              "       [1., 0.],\n",
              "       [0., 1.],\n",
              "       [1., 0.],\n",
              "       [0., 1.]], dtype=float32)"
            ]
          },
          "metadata": {
            "tags": []
          },
          "execution_count": 27
        }
      ]
    },
    {
      "cell_type": "markdown",
      "metadata": {
        "id": "FYNs7FWv9o0N"
      },
      "source": [
        "##7. Initialize &amp; build the model (5 Marks)"
      ]
    },
    {
      "cell_type": "code",
      "metadata": {
        "id": "JEniph1k1vO4"
      },
      "source": [
        "# Import the necessary layers from keras to build the model\n",
        "from tensorflow.keras.models import Sequential\n",
        "from tensorflow.keras.layers import Dense"
      ],
      "execution_count": 28,
      "outputs": []
    },
    {
      "cell_type": "code",
      "metadata": {
        "id": "YlQ4ahMc1x5Z"
      },
      "source": [
        "# Build a neural Network with a binary crossentropy loss function and sgd optimizer in Keras. The output layer with 2 neurons.\n",
        "\n",
        "#Clear out tensorflow memory\n",
        "tf.keras.backend.clear_session()\n",
        "\n",
        "# Initialize Sequential model\n",
        "model = Sequential()\n",
        "\n",
        "#Add Dense/Input layer\n",
        "\n",
        "\n",
        "#Add Dense Layer which provides 2 Output after applying sigmoid (Output Layer)\n"
      ],
      "execution_count": 29,
      "outputs": []
    },
    {
      "cell_type": "markdown",
      "metadata": {
        "id": "OonK68ZhrcCB"
      },
      "source": [
        "##8.Compile the model ( 5 Marks)"
      ]
    },
    {
      "cell_type": "code",
      "metadata": {
        "id": "0KCaZ6NJUBOW"
      },
      "source": [
        "#Compile the model\n"
      ],
      "execution_count": 30,
      "outputs": []
    },
    {
      "cell_type": "markdown",
      "metadata": {
        "id": "waoxLsNBrcCB"
      },
      "source": [
        "##9.Train the model ( 10 Marks )"
      ]
    },
    {
      "cell_type": "markdown",
      "metadata": {
        "id": "m219dYkOUBli"
      },
      "source": [
        "### Execute the model"
      ]
    },
    {
      "cell_type": "code",
      "metadata": {
        "colab": {
          "base_uri": "https://localhost:8080/",
          "height": 0
        },
        "id": "ukhBm3Jg3BdR",
        "outputId": "7b98ea8f-ec18-444e-f782-05263478b27f"
      },
      "source": [
        "#Train the. model\n"
      ],
      "execution_count": 31,
      "outputs": [
        {
          "output_type": "stream",
          "text": [
            "Epoch 1/15\n",
            "700/700 [==============================] - 5s 2ms/step - loss: 0.6691 - accuracy: 0.6468 - val_loss: 0.5012 - val_accuracy: 0.8003\n",
            "Epoch 2/15\n",
            "700/700 [==============================] - 1s 2ms/step - loss: 0.4958 - accuracy: 0.7874 - val_loss: 0.4609 - val_accuracy: 0.8030\n",
            "Epoch 3/15\n",
            "700/700 [==============================] - 1s 2ms/step - loss: 0.4524 - accuracy: 0.8039 - val_loss: 0.4432 - val_accuracy: 0.8093\n",
            "Epoch 4/15\n",
            "700/700 [==============================] - 1s 2ms/step - loss: 0.4420 - accuracy: 0.8063 - val_loss: 0.4348 - val_accuracy: 0.8160\n",
            "Epoch 5/15\n",
            "700/700 [==============================] - 1s 2ms/step - loss: 0.4406 - accuracy: 0.8057 - val_loss: 0.4296 - val_accuracy: 0.8157\n",
            "Epoch 6/15\n",
            "700/700 [==============================] - 1s 2ms/step - loss: 0.4222 - accuracy: 0.8186 - val_loss: 0.4258 - val_accuracy: 0.8170\n",
            "Epoch 7/15\n",
            "700/700 [==============================] - 1s 2ms/step - loss: 0.4191 - accuracy: 0.8227 - val_loss: 0.4224 - val_accuracy: 0.8190\n",
            "Epoch 8/15\n",
            "700/700 [==============================] - 1s 2ms/step - loss: 0.4188 - accuracy: 0.8278 - val_loss: 0.4191 - val_accuracy: 0.8240\n",
            "Epoch 9/15\n",
            "700/700 [==============================] - 1s 2ms/step - loss: 0.4104 - accuracy: 0.8280 - val_loss: 0.4152 - val_accuracy: 0.8263\n",
            "Epoch 10/15\n",
            "700/700 [==============================] - 1s 2ms/step - loss: 0.4233 - accuracy: 0.8256 - val_loss: 0.4119 - val_accuracy: 0.8290\n",
            "Epoch 11/15\n",
            "700/700 [==============================] - 1s 2ms/step - loss: 0.4003 - accuracy: 0.8351 - val_loss: 0.4075 - val_accuracy: 0.8310\n",
            "Epoch 12/15\n",
            "700/700 [==============================] - 1s 2ms/step - loss: 0.4030 - accuracy: 0.8364 - val_loss: 0.4036 - val_accuracy: 0.8330\n",
            "Epoch 13/15\n",
            "700/700 [==============================] - 1s 2ms/step - loss: 0.4081 - accuracy: 0.8307 - val_loss: 0.3980 - val_accuracy: 0.8393\n",
            "Epoch 14/15\n",
            "700/700 [==============================] - 1s 2ms/step - loss: 0.3970 - accuracy: 0.8410 - val_loss: 0.3930 - val_accuracy: 0.8433\n",
            "Epoch 15/15\n",
            "700/700 [==============================] - 1s 2ms/step - loss: 0.3837 - accuracy: 0.8473 - val_loss: 0.3884 - val_accuracy: 0.8460\n"
          ],
          "name": "stdout"
        },
        {
          "output_type": "execute_result",
          "data": {
            "text/plain": [
              "<tensorflow.python.keras.callbacks.History at 0x7ff26c124690>"
            ]
          },
          "metadata": {
            "tags": []
          },
          "execution_count": 31
        }
      ]
    },
    {
      "cell_type": "code",
      "metadata": {
        "colab": {
          "base_uri": "https://localhost:8080/",
          "height": 0
        },
        "id": "j-SKpQzQaB9R",
        "outputId": "a3d89fed-a031-477e-b9d0-3157a63da973"
      },
      "source": [
        "model.summary()"
      ],
      "execution_count": 32,
      "outputs": [
        {
          "output_type": "stream",
          "text": [
            "Model: \"sequential\"\n",
            "_________________________________________________________________\n",
            "Layer (type)                 Output Shape              Param #   \n",
            "=================================================================\n",
            "dense (Dense)                (None, 10)                110       \n",
            "_________________________________________________________________\n",
            "dense_1 (Dense)              (None, 2)                 22        \n",
            "=================================================================\n",
            "Total params: 132\n",
            "Trainable params: 132\n",
            "Non-trainable params: 0\n",
            "_________________________________________________________________\n"
          ],
          "name": "stdout"
        }
      ]
    },
    {
      "cell_type": "code",
      "metadata": {
        "id": "F8VR8TSfrcCC"
      },
      "source": [
        ""
      ],
      "execution_count": 32,
      "outputs": []
    },
    {
      "cell_type": "code",
      "metadata": {
        "colab": {
          "base_uri": "https://localhost:8080/",
          "height": 51
        },
        "id": "BxYy4l6s9XLr",
        "outputId": "efc03ca1-422b-45cd-f4f6-f470b6d84be2"
      },
      "source": [
        "print (\"Final Train Accuracy from model history: \", model.history.history['accuracy'][-1]*100)\n",
        "print (\"Final Test Accuracy from model history: \", model.history.history['val_accuracy'][-1]*100)"
      ],
      "execution_count": null,
      "outputs": [
        {
          "output_type": "stream",
          "text": [
            "Final Train Accuracy from model history:  84.54285860061646\n",
            "Final Test Accuracy from model history:  84.60000157356262\n"
          ],
          "name": "stdout"
        }
      ]
    },
    {
      "cell_type": "markdown",
      "metadata": {
        "id": "80A2RSLercCC"
      },
      "source": [
        "##10.Plot Final Train Accuracy from model"
      ]
    },
    {
      "cell_type": "code",
      "metadata": {
        "colab": {
          "base_uri": "https://localhost:8080/",
          "height": 590
        },
        "id": "XtYqS_kW9gpu",
        "outputId": "f695f519-4714-4742-b179-e115b9e7a956"
      },
      "source": [
        "import matplotlib.pyplot as plt\n",
        "\n",
        "# list all data in history\n",
        "print(model.history.history.keys())\n",
        "\n",
        "# Summary - History for accuracy\n",
        "\n",
        "\n",
        "\n",
        "\n",
        "\n",
        "\n",
        "\n",
        "# Summary - History for loss\n",
        "\n",
        "plt.plot(model.history.history['loss'], color = 'red')\n",
        "plt.plot(model.history.history['val_loss'], color = 'green')\n",
        "plt.title('Model Loss')\n",
        "plt.ylabel('Loss')\n",
        "plt.xlabel('Epoch')\n",
        "plt.legend(['train', 'test'], loc='upper right')\n",
        "plt.show();"
      ],
      "execution_count": 35,
      "outputs": [
        {
          "output_type": "stream",
          "text": [
            "dict_keys(['loss', 'accuracy', 'val_loss', 'val_accuracy'])\n"
          ],
          "name": "stdout"
        },
        {
          "output_type": "display_data",
          "data": {
            "image/png": "[encoded data removed]",
            "text/plain": [
              "<Figure size 432x288 with 1 Axes>"
            ]
          },
          "metadata": {
            "tags": [],
            "needs_background": "light"
          }
        },
        {
          "output_type": "display_data",
          "data": {
            "image/png": "[encoded data removed]",
            "text/plain": [
              "<Figure size 432x288 with 1 Axes>"
            ]
          },
          "metadata": {
            "tags": [],
            "needs_background": "light"
          }
        }
      ]
    },
    {
      "cell_type": "markdown",
      "metadata": {
        "id": "4eT-MuXGdYCP"
      },
      "source": [
        "### Summary:\n",
        "- As we have binary classification, we have used binary crossentropy for loss and sigmoid for activation in output layer.\n",
        "- We have just tried with relu activation in input layer. We will find the best activation method using grid search.\n",
        "- Same way we have tried with sgd optimizer. We will find the best optimizer using grid search.\n",
        "The test accuracy we have got is 84.5499%"
      ]
    },
    {
      "cell_type": "code",
      "metadata": {
        "id": "QM2N1ds09vpC"
      },
      "source": [
        "from sklearn.model_selection import GridSearchCV\n",
        "from tensorflow.keras.models import Sequential\n",
        "from tensorflow.keras.layers import Dense\n",
        "from tensorflow.keras.layers import Conv2D\n",
        "from tensorflow.keras.layers import MaxPool2D\n",
        "from tensorflow.keras.layers import Flatten\n",
        "from tensorflow.keras.layers import Activation\n",
        "from tensorflow.keras.layers import BatchNormalization\n",
        "from tensorflow.keras.layers import Reshape\n",
        "from tensorflow.keras.layers import Dropout\n",
        "from tensorflow.keras.wrappers.scikit_learn import KerasClassifier\n",
        "from keras.constraints import maxnorm"
      ],
      "execution_count": 34,
      "outputs": []
    },
    {
      "cell_type": "markdown",
      "metadata": {
        "id": "rm2GnRaCfY3I"
      },
      "source": [
        "- Lets first findout the best optimizer among 'SGD', 'RMSprop', 'Adagrad', 'Adadelta', 'Adam', 'Adamax', 'Nadam'"
      ]
    },
    {
      "cell_type": "code",
      "metadata": {
        "id": "5aTkH3KsgT_o"
      },
      "source": [
        "#Setting up optimizers\n",
        "sgd_opt = tf.keras.optimizers.SGD(lr=0.5, decay=1e-6, momentum=0.9, nesterov=True) #sgd_opt can be with momentum, nesterov or without, 2nd choice\n",
        "rmsprop_opt = tf.keras.optimizers.RMSprop(learning_rate=0.001, rho=0.9) #almost similar to adadelta\n",
        "adagrad_opt = tf.keras.optimizers.Adagrad(learning_rate=0.01) #solves problem of learning rate 4th choice and 5th choice sgd without momentum\n",
        "adadelta_opt = tf.keras.optimizers.Adadelta(learning_rate=1.0, rho=0.95) #solves problem of learning rate gamma is to be set rho 3rd choice\n",
        "adam_opt = tf.keras.optimizers.Adam(learning_rate=0.001, beta_1=0.9, beta_2=0.999, amsgrad=False) #momentum and adadelta together approach. top choice\n",
        "adamax_opt = tf.keras.optimizers.Adamax(learning_rate=0.002, beta_1=0.9, beta_2=0.999)\n",
        "nadam_opt = tf.keras.optimizers.Nadam(learning_rate=0.002, beta_1=0.9, beta_2=0.999)"
      ],
      "execution_count": null,
      "outputs": []
    },
    {
      "cell_type": "markdown",
      "metadata": {
        "id": "Gsl0t4qKrcCE"
      },
      "source": [
        "##11. Find the best optimizer for  the model (10 Marks)"
      ]
    },
    {
      "cell_type": "code",
      "metadata": {
        "colab": {
          "base_uri": "https://localhost:8080/",
          "height": 0
        },
        "id": "sNGuA4V29vzc",
        "outputId": "4321a6aa-a733-47db-994c-e5f3811a81b8"
      },
      "source": [
        "#Find out best optimizer\n",
        "\n",
        "#Clear out tensorflow memory\n",
        "tf.keras.backend.clear_session()\n",
        "\n",
        "# Function to create model, required for KerasClassifier\n",
        "\n",
        "def create_model(optimizer='adam'):\n",
        "  #Initialize Sequential model\n",
        "  model_opt = Sequential()\n",
        "  \n",
        "  #Input Layer\n",
        "  model_opt.add(Dense(10, input_dim = 10, activation='relu'))\n",
        "  \n",
        "  #Add Dense Layer which provides 1 Outputs after applying sigmoid (Output Layer)\n",
        "  model_opt.add(Dense(1, activation='sigmoid'))\n",
        "  \n",
        "  #Compile the model\n",
        "  model_opt.compile(optimizer=optimizer, loss='binary_crossentropy', metrics=['accuracy'])\n",
        "  \n",
        "  return model_opt\n",
        "\n",
        "model_opt = KerasClassifier(build_fn=create_model, epochs=15, batch_size=10, verbose=0)\n",
        "\n",
        "\n",
        "# define the grid search parameters\n",
        "\n",
        "\n",
        "\n",
        "grid = GridSearchCV(estimator=model_opt, param_grid=param_grid, n_jobs=-1, scoring=\"accuracy\", cv=2)\n",
        "grid_result = grid.fit(X_train_Z, y_train)\n",
        "\n",
        "# summarize results\n",
        "print(\"Best: %f using %s\" % (grid_result.best_score_, grid_result.best_params_))\n",
        "\n",
        "means = grid_result.cv_results_['mean_test_score']\n",
        "stds = grid_result.cv_results_['std_test_score']\n",
        "params = grid_result.cv_results_['params']\n",
        "\n",
        "for mean, stdev, param in zip(means, stds, params):\n",
        "    print(\"%f (%f) with: %r\" % (mean, stdev, param))"
      ],
      "execution_count": 36,
      "outputs": [
        {
          "output_type": "stream",
          "text": [
            "Best: 0.849857 using {'optimizer': 'RMSprop'}\n",
            "0.824857 (0.008000) with: {'optimizer': 'SGD'}\n",
            "0.849857 (0.001857) with: {'optimizer': 'RMSprop'}\n",
            "0.755714 (0.012286) with: {'optimizer': 'Adagrad'}\n",
            "0.641286 (0.150714) with: {'optimizer': 'Adadelta'}\n",
            "0.842143 (0.001000) with: {'optimizer': 'Adam'}\n",
            "0.820429 (0.003286) with: {'optimizer': 'Adamax'}\n",
            "0.849286 (0.000714) with: {'optimizer': 'Nadam'}\n"
          ],
          "name": "stdout"
        }
      ]
    },
    {
      "cell_type": "markdown",
      "metadata": {
        "id": "K5KsH7EhrOyS"
      },
      "source": [
        "###From above we can see the best Optimizer is \"Nadam\" with Accuracy of 85.03%, we can see a slight increase in accuracy."
      ]
    },
    {
      "cell_type": "markdown",
      "metadata": {
        "id": "9G3x2O1ercCE"
      },
      "source": [
        "##12.Find the best Learning rate"
      ]
    },
    {
      "cell_type": "markdown",
      "metadata": {
        "id": "9zazgku8sLR5"
      },
      "source": [
        "Lets figure out the best learning rate."
      ]
    },
    {
      "cell_type": "code",
      "metadata": {
        "colab": {
          "base_uri": "https://localhost:8080/",
          "height": 0
        },
        "id": "FdPGtCs9sNtO",
        "outputId": "e5cf4e22-f44c-477b-f8a3-072029bc1300"
      },
      "source": [
        "#Clear out tensorflow memory\n",
        "tf.keras.backend.clear_session()\n",
        "\n",
        "# Here we will use best optimizer \"Nadam\" to find out best learning rate.\n",
        "from tensorflow.keras.optimizers import Nadam\n",
        "\n",
        "# Function to create model, required for KerasClassifier\n",
        "def create_model(learning_rate=0.0001):\n",
        "  #Initialize Sequential model\n",
        "  model_lr = Sequential()\n",
        "  #Input Layer\n",
        "  model_lr.add(Dense(10, input_dim = 10, activation='relu'))\n",
        "  #Add Dense Layer which provides 2 Outputs after applying sigmoid (Output Layer)\n",
        "  model_lr.add(Dense(2, activation='sigmoid'))\n",
        "  #Compile the model\n",
        "  optimizer = Nadam(lr=learning_rate)\n",
        "  model_lr.compile(optimizer = optimizer, loss = 'binary_crossentropy', metrics = ['accuracy'])\n",
        "  return model_lr\n",
        "\n",
        "# create model\n",
        "model_lr = KerasClassifier(build_fn=create_model, epochs=15, batch_size=10, verbose=0)\n",
        "\n",
        "# define the grid search parameters\n",
        "learning_rate = \n",
        "param_grid = \n",
        "grid = GridSearchCV(estimator=model_lr, param_grid=param_grid, n_jobs=1, cv=2)\n",
        "grid_result = grid.fit(X_train_Z, y_train_OH)\n",
        "\n",
        "# summarize results\n",
        "print(\"Best: %f using %s\" % (grid_result.best_score_, grid_result.best_params_))\n",
        "means = grid_result.cv_results_['mean_test_score']\n",
        "stds = grid_result.cv_results_['std_test_score']\n",
        "params = grid_result.cv_results_['params']\n",
        "for mean, stdev, param in zip(means, stds, params):\n",
        "    print(\"%f (%f) with: %r\" % (mean, stdev, param))"
      ],
      "execution_count": 37,
      "outputs": [
        {
          "output_type": "stream",
          "text": [
            "Best: 0.855143 using {'learning_rate': 0.01}\n",
            "0.839143 (0.013143) with: {'learning_rate': 0.001}\n",
            "0.855143 (0.000857) with: {'learning_rate': 0.01}\n",
            "0.846286 (0.006000) with: {'learning_rate': 0.1}\n",
            "0.826286 (0.012000) with: {'learning_rate': 0.2}\n",
            "0.794571 (0.002571) with: {'learning_rate': 0.3}\n",
            "0.794571 (0.002571) with: {'learning_rate': 0.5}\n",
            "0.794571 (0.002571) with: {'learning_rate': 1.0}\n"
          ],
          "name": "stdout"
        }
      ]
    },
    {
      "cell_type": "markdown",
      "metadata": {
        "id": "AvazQl39u99I"
      },
      "source": [
        "### Best learning rate is appeared as 0.01 using Nadam as an optimizer"
      ]
    },
    {
      "cell_type": "code",
      "metadata": {
        "id": "ORR5jcvJ5G7f"
      },
      "source": [
        "nadam_opt = tf.keras.optimizers.Nadam(learning_rate=0.01, beta_1=0.9, beta_2=0.999)"
      ],
      "execution_count": null,
      "outputs": []
    },
    {
      "cell_type": "code",
      "metadata": {
        "colab": {
          "base_uri": "https://localhost:8080/",
          "height": 170
        },
        "id": "_y3qpnRmvdVV",
        "outputId": "d98c442d-24c7-41e9-931a-2dc151a77ba5"
      },
      "source": [
        "#Clear out tensorflow memory\n",
        "tf.keras.backend.clear_session()\n",
        "\n",
        "# Tune the Neuron Activation Function for hidden layer\n",
        "\n",
        "def create_model(activation='relu'):\n",
        "  #Initialize Sequential model\n",
        "  model_actf = Sequential()\n",
        "  #Input Layer\n",
        "  model_actf.add(Dense(10, input_dim = 10, activation=activation))\n",
        "  #Add Dense Layer which provides 2 Outputs after applying sigmoid (Output Layer)\n",
        "  model_actf.add(Dense(2, activation='sigmoid'))\n",
        "  #Compile the model\n",
        "  model_actf.compile(optimizer=nadam_opt, loss='binary_crossentropy', metrics=['accuracy'])\n",
        "  return model_actf\n",
        "\n",
        "# create model\n",
        "model_actf = KerasClassifier(build_fn=create_model, epochs=15, batch_size=10, verbose=0)\n",
        "\n",
        "# define the grid search parameters\n",
        "activation = ['softmax', 'softplus', 'softsign', 'relu', 'tanh', 'sigmoid', 'hard_sigmoid', 'linear']\n",
        "param_grid = dict(activation=activation)\n",
        "\n",
        "grid = GridSearchCV(estimator=model_actf, param_grid=param_grid, n_jobs=1, cv=2)\n",
        "grid_result = grid.fit(X_train_Z, y_train_OH)\n",
        "\n",
        "# summarize results\n",
        "print(\"Best: %f using %s\" % (grid_result.best_score_, grid_result.best_params_))\n",
        "\n",
        "means = grid_result.cv_results_['mean_test_score']\n",
        "stds = grid_result.cv_results_['std_test_score']\n",
        "params = grid_result.cv_results_['params']\n",
        "for mean, stdev, param in zip(means, stds, params):\n",
        "    print(\"%f (%f) with: %r\" % (mean, stdev, param))"
      ],
      "execution_count": null,
      "outputs": [
        {
          "output_type": "stream",
          "text": [
            "Best: 0.855429 using {'activation': 'hard_sigmoid'}\n",
            "0.853000 (0.000429) with: {'activation': 'softmax'}\n",
            "0.854429 (0.002429) with: {'activation': 'softplus'}\n",
            "0.850429 (0.001571) with: {'activation': 'softsign'}\n",
            "0.854000 (0.000857) with: {'activation': 'relu'}\n",
            "0.855143 (0.000571) with: {'activation': 'tanh'}\n",
            "0.853714 (0.003143) with: {'activation': 'sigmoid'}\n",
            "0.855429 (0.000857) with: {'activation': 'hard_sigmoid'}\n",
            "0.807143 (0.005143) with: {'activation': 'linear'}\n"
          ],
          "name": "stdout"
        }
      ]
    },
    {
      "cell_type": "markdown",
      "metadata": {
        "id": "kzW_umNoveVI"
      },
      "source": [
        "#### As per above best activation function for hidden layer is \"softmax\" and we can see a slight increase in accuracy also"
      ]
    },
    {
      "cell_type": "code",
      "metadata": {
        "colab": {
          "base_uri": "https://localhost:8080/",
          "height": 170
        },
        "id": "LKJuKpU4vUXA",
        "outputId": "19a52eea-2efb-4fb7-a2dd-3ed4a0657a6e"
      },
      "source": [
        "#Clear out tensorflow memory\n",
        "tf.keras.backend.clear_session()\n",
        "\n",
        "# Tune Network Weight Initialization\n",
        "\n",
        "def create_model(init_mode='uniform'):\n",
        "  #Initialize Sequential model\n",
        "  model_nw = Sequential()\n",
        "  #Input Layer\n",
        "  model_nw.add(Dense(10, input_dim = 10, kernel_initializer = init_mode, activation='softmax'))\n",
        "  #Add Dense Layer which provides 2 Outputs after applying sigmoid (Output Layer)\n",
        "  model_nw.add(Dense(2, kernel_initializer = init_mode, activation='sigmoid'))\n",
        "  #Compile the model\n",
        "  model_nw.compile(optimizer=nadam_opt, loss='binary_crossentropy', metrics=['accuracy'])\n",
        "  return model_nw\n",
        "\n",
        "# create model\n",
        "model_nw = KerasClassifier(build_fn=create_model, epochs=15, batch_size=10, verbose=0)\n",
        "\n",
        "# define the grid search parameters\n",
        "init_mode = ['zero', 'glorot_normal', 'uniform', 'lecun_uniform', 'normal', 'glorot_uniform', 'he_normal', 'he_uniform']\n",
        "param_grid = dict(init_mode=init_mode)\n",
        "\n",
        "grid = GridSearchCV(estimator=model_nw, param_grid=param_grid, n_jobs=1, cv=2)\n",
        "grid_result = grid.fit(X_train_Z, y_train_OH)\n",
        "\n",
        "# summarize results\n",
        "print(\"Best: %f using %s\" % (grid_result.best_score_, grid_result.best_params_))\n",
        "\n",
        "means = grid_result.cv_results_['mean_test_score']\n",
        "stds = grid_result.cv_results_['std_test_score']\n",
        "params = grid_result.cv_results_['params']\n",
        "for mean, stdev, param in zip(means, stds, params):\n",
        "    print(\"%f (%f) with: %r\" % (mean, stdev, param))"
      ],
      "execution_count": null,
      "outputs": [
        {
          "output_type": "stream",
          "text": [
            "Best: 0.856857 using {'init_mode': 'he_uniform'}\n",
            "0.794571 (0.002571) with: {'init_mode': 'zero'}\n",
            "0.851714 (0.000286) with: {'init_mode': 'glorot_normal'}\n",
            "0.852429 (0.001286) with: {'init_mode': 'uniform'}\n",
            "0.851429 (0.003143) with: {'init_mode': 'lecun_uniform'}\n",
            "0.854143 (0.001571) with: {'init_mode': 'normal'}\n",
            "0.853571 (0.001857) with: {'init_mode': 'glorot_uniform'}\n",
            "0.852714 (0.004429) with: {'init_mode': 'he_normal'}\n",
            "0.856857 (0.000571) with: {'init_mode': 'he_uniform'}\n"
          ],
          "name": "stdout"
        }
      ]
    },
    {
      "cell_type": "markdown",
      "metadata": {
        "id": "jp6FCTN8vWQV"
      },
      "source": [
        "####As we can see the best weight initialization is lecun_uniform but the accuracy slightly reduced, so we will not specify activation of initail weights."
      ]
    },
    {
      "cell_type": "code",
      "metadata": {
        "colab": {
          "base_uri": "https://localhost:8080/",
          "height": 238
        },
        "id": "QCnNioWJvXIF",
        "outputId": "dc752f15-b96f-4558-d8a4-7ba8f7f2724e"
      },
      "source": [
        "#Clear out tensorflow memory\n",
        "tf.keras.backend.clear_session()\n",
        "\n",
        "# Tune Dropout Regularization\n",
        "# Tuning the dropout rate for regularization in an effort to limit overfitting and improve the model’s ability to generalize.\n",
        "\n",
        "from tensorflow.keras.layers import Dropout\n",
        "\n",
        "def create_model(dropout_rate=0.0):\n",
        "  #Initialize Sequential model\n",
        "  model_do = Sequential()\n",
        "  #Input Layer\n",
        "  model_do.add(Dense(10, input_dim = 10, activation='softmax'))\n",
        "  model_do.add(Dropout(dropout_rate))\n",
        "  #Add Dense Layer which provides 2 Outputs after applying sigmoid (Output Layer)\n",
        "  model_do.add(Dense(2, activation='sigmoid'))\n",
        "  #Compile the model\n",
        "  model_do.compile(optimizer=nadam_opt, loss='binary_crossentropy', metrics=['accuracy'])\n",
        "  return model_do\n",
        "\n",
        "# create model\n",
        "model_do = KerasClassifier(build_fn=create_model, epochs=15, batch_size=10, verbose=0)\n",
        "\n",
        "# define the grid search parameters\n",
        "dropout_rate = [0.0, 0.1, 0.2, 0.25, 0.3, 0.4, 0.5, 0.6, 0.7, 0.75, 0.8, 0.9]\n",
        "param_grid = dict(dropout_rate=dropout_rate)\n",
        "\n",
        "grid = GridSearchCV(estimator=model_do, param_grid=param_grid, n_jobs=1, cv=2)\n",
        "grid_result = grid.fit(X_train_Z, y_train_OH)\n",
        "\n",
        "# summarize results\n",
        "print(\"Best: %f using %s\" % (grid_result.best_score_, grid_result.best_params_))\n",
        "\n",
        "means = grid_result.cv_results_['mean_test_score']\n",
        "stds = grid_result.cv_results_['std_test_score']\n",
        "params = grid_result.cv_results_['params']\n",
        "for mean, stdev, param in zip(means, stds, params):\n",
        "    print(\"%f (%f) with: %r\" % (mean, stdev, param))"
      ],
      "execution_count": null,
      "outputs": [
        {
          "output_type": "stream",
          "text": [
            "Best: 0.857286 using {'dropout_rate': 0.1}\n",
            "0.854571 (0.001429) with: {'dropout_rate': 0.0}\n",
            "0.857286 (0.002714) with: {'dropout_rate': 0.1}\n",
            "0.856000 (0.002857) with: {'dropout_rate': 0.2}\n",
            "0.853857 (0.001286) with: {'dropout_rate': 0.25}\n",
            "0.854571 (0.000000) with: {'dropout_rate': 0.3}\n",
            "0.854857 (0.002857) with: {'dropout_rate': 0.4}\n",
            "0.853714 (0.002571) with: {'dropout_rate': 0.5}\n",
            "0.834714 (0.014143) with: {'dropout_rate': 0.6}\n",
            "0.794571 (0.002571) with: {'dropout_rate': 0.7}\n",
            "0.794571 (0.002571) with: {'dropout_rate': 0.75}\n",
            "0.794571 (0.002571) with: {'dropout_rate': 0.8}\n",
            "0.794571 (0.002571) with: {'dropout_rate': 0.9}\n"
          ],
          "name": "stdout"
        }
      ]
    },
    {
      "cell_type": "markdown",
      "metadata": {
        "id": "oi2EaD9TvvdR"
      },
      "source": [
        "#### We can see overall dropout is not contributing to improvement of accuracy of the model, so we will not include dropout in our final model"
      ]
    },
    {
      "cell_type": "code",
      "metadata": {
        "colab": {
          "base_uri": "https://localhost:8080/",
          "height": 255
        },
        "id": "p6cH9Z5Cvu04",
        "outputId": "4087b226-496c-4918-f786-b1f628f45adc"
      },
      "source": [
        "# Tune the Number of Neurons in the Hidden Layer\n",
        "# The number of neurons in a layer is an important parameter to tune. \n",
        "# Generally the number of neurons in a layer controls the representational capacity of the network, at least at that point in the topology.\n",
        "\n",
        "#Clear out tensorflow memory\n",
        "tf.keras.backend.clear_session()\n",
        "\n",
        "# Function to create model, required for KerasClassifier\n",
        "def create_model(neurons=1):\n",
        "  #Initialize Sequential model\n",
        "  model_neu = Sequential()\n",
        "  #Input Layer\n",
        "  model_neu.add(Dense(neurons, input_dim = 10, activation='softmax'))\n",
        "  #Add Dense Layer which provides 2 Outputs after applying sigmoid (Output Layer)\n",
        "  model_neu.add(Dense(2, activation='sigmoid'))\n",
        "  #Compile the model\n",
        "  model_neu.compile(optimizer=nadam_opt, loss='binary_crossentropy', metrics=['accuracy'])\n",
        "  return model_neu\n",
        "\n",
        "# create model\n",
        "model_neu = KerasClassifier(build_fn=create_model, epochs=15, batch_size=10, verbose=0)\n",
        "\n",
        "# define the grid search parameters\n",
        "neurons = [5, 10, 15, 20, 25, 30, 35, 40, 45, 50, 55, 60, 100]\n",
        "param_grid = dict(neurons=neurons)\n",
        "\n",
        "grid = GridSearchCV(estimator=model_neu, param_grid=param_grid, n_jobs=1, cv=2)\n",
        "grid_result = grid.fit(X_train_Z, y_train_OH)\n",
        "\n",
        "# summarize results\n",
        "print(\"Best: %f using %s\" % (grid_result.best_score_, grid_result.best_params_))\n",
        "\n",
        "means = grid_result.cv_results_['mean_test_score']\n",
        "stds = grid_result.cv_results_['std_test_score']\n",
        "params = grid_result.cv_results_['params']\n",
        "for mean, stdev, param in zip(means, stds, params):\n",
        "    print(\"%f (%f) with: %r\" % (mean, stdev, param))"
      ],
      "execution_count": null,
      "outputs": [
        {
          "output_type": "stream",
          "text": [
            "Best: 0.854143 using {'neurons': 15}\n",
            "0.840000 (0.007429) with: {'neurons': 5}\n",
            "0.849857 (0.001000) with: {'neurons': 10}\n",
            "0.854143 (0.001286) with: {'neurons': 15}\n",
            "0.851286 (0.002429) with: {'neurons': 20}\n",
            "0.849286 (0.002714) with: {'neurons': 25}\n",
            "0.847714 (0.004000) with: {'neurons': 30}\n",
            "0.845286 (0.003571) with: {'neurons': 35}\n",
            "0.850143 (0.002429) with: {'neurons': 40}\n",
            "0.848000 (0.004857) with: {'neurons': 45}\n",
            "0.847857 (0.002143) with: {'neurons': 50}\n",
            "0.852714 (0.003286) with: {'neurons': 55}\n",
            "0.849571 (0.001571) with: {'neurons': 60}\n",
            "0.846286 (0.005714) with: {'neurons': 100}\n"
          ],
          "name": "stdout"
        }
      ]
    },
    {
      "cell_type": "markdown",
      "metadata": {
        "id": "zTEUl6yEv2XP"
      },
      "source": [
        "####Optimised no. of neuron are 40"
      ]
    },
    {
      "cell_type": "markdown",
      "metadata": {
        "id": "_Xtb-xBGwB0i"
      },
      "source": [
        "###Final hyperparameters for optimization of the model are\n",
        "- Optimizer = 'Nadam'\n",
        "- Learning rate = 0.01\n",
        "- Neuron Activation Function = \"softmax\"\n",
        "- Network Weight Initialization = lecun_uniform \n",
        "- Dropout Regularization p = 0.0\n",
        "- Number of Neurons in the Hidden Layer = 40\n"
      ]
    },
    {
      "cell_type": "markdown",
      "metadata": {
        "id": "SepQ5kzdwCWU"
      },
      "source": [
        "##Final Model Building based on above Optimised Hyperparameters"
      ]
    },
    {
      "cell_type": "code",
      "metadata": {
        "colab": {
          "base_uri": "https://localhost:8080/",
          "height": 1000
        },
        "id": "g-5Ru31CwC3k",
        "outputId": "0a4ff383-c0f1-45b7-9237-623d148fec10"
      },
      "source": [
        "#Clear out tensorflow memory\n",
        "tf.keras.backend.clear_session()\n",
        "\n",
        "#Initialize Sequential model\n",
        "final_model = Sequential()\n",
        "  \n",
        "#Input Layer\n",
        "final_model.add(Dense(10, input_dim = 10, activation='softmax'))\n",
        "\n",
        "#Dense Layer\n",
        "final_model.add(Dense(40, activation='softmax'))\n",
        "\n",
        "#Add Dense Layer which provides 2 Output after applying sigmoid (Output Layer)\n",
        "final_model.add(Dense(2, activation='sigmoid'))\n",
        " \n",
        "#Compile the model\n",
        "final_model.compile(optimizer=nadam_opt, loss='binary_crossentropy', metrics=['accuracy'])\n",
        " \n",
        "#Train the model \n",
        "final_model.fit(X_train_Z, y_train_OH, validation_data=(X_test_Z, y_test_OH), epochs=90, batch_size=50)"
      ],
      "execution_count": null,
      "outputs": [
        {
          "output_type": "stream",
          "text": [
            "Epoch 1/90\n",
            "140/140 [==============================] - 1s 4ms/step - loss: 0.4588 - accuracy: 0.7949 - val_loss: 0.4312 - val_accuracy: 0.8003\n",
            "Epoch 2/90\n",
            "140/140 [==============================] - 0s 3ms/step - loss: 0.3954 - accuracy: 0.8240 - val_loss: 0.3917 - val_accuracy: 0.8403\n",
            "Epoch 3/90\n",
            "140/140 [==============================] - 0s 3ms/step - loss: 0.3654 - accuracy: 0.8513 - val_loss: 0.3763 - val_accuracy: 0.8533\n",
            "Epoch 4/90\n",
            "140/140 [==============================] - 0s 3ms/step - loss: 0.3492 - accuracy: 0.8537 - val_loss: 0.3714 - val_accuracy: 0.8527\n",
            "Epoch 5/90\n",
            "140/140 [==============================] - 0s 3ms/step - loss: 0.3436 - accuracy: 0.8571 - val_loss: 0.3714 - val_accuracy: 0.8467\n",
            "Epoch 6/90\n",
            "140/140 [==============================] - 0s 3ms/step - loss: 0.3402 - accuracy: 0.8597 - val_loss: 0.3665 - val_accuracy: 0.8570\n",
            "Epoch 7/90\n",
            "140/140 [==============================] - 0s 3ms/step - loss: 0.3376 - accuracy: 0.8639 - val_loss: 0.3646 - val_accuracy: 0.8540\n",
            "Epoch 8/90\n",
            "140/140 [==============================] - 0s 3ms/step - loss: 0.3385 - accuracy: 0.8583 - val_loss: 0.3675 - val_accuracy: 0.8510\n",
            "Epoch 9/90\n",
            "140/140 [==============================] - 0s 3ms/step - loss: 0.3357 - accuracy: 0.8613 - val_loss: 0.3621 - val_accuracy: 0.8567\n",
            "Epoch 10/90\n",
            "140/140 [==============================] - 0s 3ms/step - loss: 0.3363 - accuracy: 0.8620 - val_loss: 0.3697 - val_accuracy: 0.8463\n",
            "Epoch 11/90\n",
            "140/140 [==============================] - 0s 3ms/step - loss: 0.3356 - accuracy: 0.8579 - val_loss: 0.3617 - val_accuracy: 0.8567\n",
            "Epoch 12/90\n",
            "140/140 [==============================] - 0s 3ms/step - loss: 0.3337 - accuracy: 0.8619 - val_loss: 0.3646 - val_accuracy: 0.8530\n",
            "Epoch 13/90\n",
            "140/140 [==============================] - 0s 3ms/step - loss: 0.3336 - accuracy: 0.8633 - val_loss: 0.3603 - val_accuracy: 0.8560\n",
            "Epoch 14/90\n",
            "140/140 [==============================] - 1s 4ms/step - loss: 0.3336 - accuracy: 0.8614 - val_loss: 0.3636 - val_accuracy: 0.8493\n",
            "Epoch 15/90\n",
            "140/140 [==============================] - 0s 3ms/step - loss: 0.3335 - accuracy: 0.8604 - val_loss: 0.3653 - val_accuracy: 0.8503\n",
            "Epoch 16/90\n",
            "140/140 [==============================] - 0s 3ms/step - loss: 0.3333 - accuracy: 0.8606 - val_loss: 0.3665 - val_accuracy: 0.8523\n",
            "Epoch 17/90\n",
            "140/140 [==============================] - 0s 4ms/step - loss: 0.3327 - accuracy: 0.8626 - val_loss: 0.3698 - val_accuracy: 0.8450\n",
            "Epoch 18/90\n",
            "140/140 [==============================] - 1s 4ms/step - loss: 0.3333 - accuracy: 0.8606 - val_loss: 0.3614 - val_accuracy: 0.8543\n",
            "Epoch 19/90\n",
            "140/140 [==============================] - 0s 4ms/step - loss: 0.3328 - accuracy: 0.8631 - val_loss: 0.3626 - val_accuracy: 0.8533\n",
            "Epoch 20/90\n",
            "140/140 [==============================] - 0s 3ms/step - loss: 0.3315 - accuracy: 0.8617 - val_loss: 0.3640 - val_accuracy: 0.8550\n",
            "Epoch 21/90\n",
            "140/140 [==============================] - 1s 4ms/step - loss: 0.3310 - accuracy: 0.8633 - val_loss: 0.3647 - val_accuracy: 0.8513\n",
            "Epoch 22/90\n",
            "140/140 [==============================] - 1s 4ms/step - loss: 0.3312 - accuracy: 0.8629 - val_loss: 0.3617 - val_accuracy: 0.8537\n",
            "Epoch 23/90\n",
            "140/140 [==============================] - 0s 3ms/step - loss: 0.3313 - accuracy: 0.8626 - val_loss: 0.3626 - val_accuracy: 0.8550\n",
            "Epoch 24/90\n",
            "140/140 [==============================] - 0s 3ms/step - loss: 0.3316 - accuracy: 0.8624 - val_loss: 0.3615 - val_accuracy: 0.8567\n",
            "Epoch 25/90\n",
            "140/140 [==============================] - 0s 3ms/step - loss: 0.3315 - accuracy: 0.8596 - val_loss: 0.3602 - val_accuracy: 0.8563\n",
            "Epoch 26/90\n",
            "140/140 [==============================] - 1s 4ms/step - loss: 0.3310 - accuracy: 0.8619 - val_loss: 0.3622 - val_accuracy: 0.8570\n",
            "Epoch 27/90\n",
            "140/140 [==============================] - 0s 4ms/step - loss: 0.3308 - accuracy: 0.8647 - val_loss: 0.3606 - val_accuracy: 0.8550\n",
            "Epoch 28/90\n",
            "140/140 [==============================] - 0s 3ms/step - loss: 0.3306 - accuracy: 0.8630 - val_loss: 0.3632 - val_accuracy: 0.8520\n",
            "Epoch 29/90\n",
            "140/140 [==============================] - 0s 3ms/step - loss: 0.3309 - accuracy: 0.8609 - val_loss: 0.3602 - val_accuracy: 0.8557\n",
            "Epoch 30/90\n",
            "140/140 [==============================] - 0s 3ms/step - loss: 0.3309 - accuracy: 0.8617 - val_loss: 0.3633 - val_accuracy: 0.8480\n",
            "Epoch 31/90\n",
            "140/140 [==============================] - 0s 3ms/step - loss: 0.3315 - accuracy: 0.8631 - val_loss: 0.3642 - val_accuracy: 0.8543\n",
            "Epoch 32/90\n",
            "140/140 [==============================] - 0s 3ms/step - loss: 0.3303 - accuracy: 0.8616 - val_loss: 0.3607 - val_accuracy: 0.8553\n",
            "Epoch 33/90\n",
            "140/140 [==============================] - 1s 4ms/step - loss: 0.3296 - accuracy: 0.8637 - val_loss: 0.3578 - val_accuracy: 0.8580\n",
            "Epoch 34/90\n",
            "140/140 [==============================] - 1s 4ms/step - loss: 0.3304 - accuracy: 0.8627 - val_loss: 0.3601 - val_accuracy: 0.8577\n",
            "Epoch 35/90\n",
            "140/140 [==============================] - 0s 3ms/step - loss: 0.3297 - accuracy: 0.8637 - val_loss: 0.3603 - val_accuracy: 0.8577\n",
            "Epoch 36/90\n",
            "140/140 [==============================] - 1s 4ms/step - loss: 0.3295 - accuracy: 0.8624 - val_loss: 0.3642 - val_accuracy: 0.8497\n",
            "Epoch 37/90\n",
            "140/140 [==============================] - 0s 3ms/step - loss: 0.3301 - accuracy: 0.8617 - val_loss: 0.3610 - val_accuracy: 0.8543\n",
            "Epoch 38/90\n",
            "140/140 [==============================] - 0s 3ms/step - loss: 0.3306 - accuracy: 0.8616 - val_loss: 0.3612 - val_accuracy: 0.8563\n",
            "Epoch 39/90\n",
            "140/140 [==============================] - 0s 3ms/step - loss: 0.3303 - accuracy: 0.8637 - val_loss: 0.3613 - val_accuracy: 0.8553\n",
            "Epoch 40/90\n",
            "140/140 [==============================] - 1s 4ms/step - loss: 0.3298 - accuracy: 0.8640 - val_loss: 0.3589 - val_accuracy: 0.8573\n",
            "Epoch 41/90\n",
            "140/140 [==============================] - 0s 3ms/step - loss: 0.3304 - accuracy: 0.8631 - val_loss: 0.3607 - val_accuracy: 0.8560\n",
            "Epoch 42/90\n",
            "140/140 [==============================] - 0s 3ms/step - loss: 0.3289 - accuracy: 0.8630 - val_loss: 0.3575 - val_accuracy: 0.8583\n",
            "Epoch 43/90\n",
            "140/140 [==============================] - 0s 3ms/step - loss: 0.3291 - accuracy: 0.8636 - val_loss: 0.3641 - val_accuracy: 0.8527\n",
            "Epoch 44/90\n",
            "140/140 [==============================] - 0s 3ms/step - loss: 0.3294 - accuracy: 0.8630 - val_loss: 0.3609 - val_accuracy: 0.8577\n",
            "Epoch 45/90\n",
            "140/140 [==============================] - 0s 3ms/step - loss: 0.3291 - accuracy: 0.8624 - val_loss: 0.3621 - val_accuracy: 0.8537\n",
            "Epoch 46/90\n",
            "140/140 [==============================] - 0s 3ms/step - loss: 0.3295 - accuracy: 0.8623 - val_loss: 0.3586 - val_accuracy: 0.8577\n",
            "Epoch 47/90\n",
            "140/140 [==============================] - 0s 3ms/step - loss: 0.3289 - accuracy: 0.8611 - val_loss: 0.3603 - val_accuracy: 0.8560\n",
            "Epoch 48/90\n",
            "140/140 [==============================] - 0s 3ms/step - loss: 0.3296 - accuracy: 0.8646 - val_loss: 0.3561 - val_accuracy: 0.8560\n",
            "Epoch 49/90\n",
            "140/140 [==============================] - 0s 3ms/step - loss: 0.3285 - accuracy: 0.8640 - val_loss: 0.3585 - val_accuracy: 0.8553\n",
            "Epoch 50/90\n",
            "140/140 [==============================] - 0s 3ms/step - loss: 0.3288 - accuracy: 0.8609 - val_loss: 0.3574 - val_accuracy: 0.8573\n",
            "Epoch 51/90\n",
            "140/140 [==============================] - 0s 3ms/step - loss: 0.3291 - accuracy: 0.8623 - val_loss: 0.3565 - val_accuracy: 0.8580\n",
            "Epoch 52/90\n",
            "140/140 [==============================] - 0s 3ms/step - loss: 0.3285 - accuracy: 0.8624 - val_loss: 0.3629 - val_accuracy: 0.8567\n",
            "Epoch 53/90\n",
            "140/140 [==============================] - 0s 3ms/step - loss: 0.3287 - accuracy: 0.8610 - val_loss: 0.3600 - val_accuracy: 0.8553\n",
            "Epoch 54/90\n",
            "140/140 [==============================] - 0s 3ms/step - loss: 0.3286 - accuracy: 0.8637 - val_loss: 0.3599 - val_accuracy: 0.8567\n",
            "Epoch 55/90\n",
            "140/140 [==============================] - 0s 3ms/step - loss: 0.3285 - accuracy: 0.8623 - val_loss: 0.3573 - val_accuracy: 0.8553\n",
            "Epoch 56/90\n",
            "140/140 [==============================] - 0s 3ms/step - loss: 0.3278 - accuracy: 0.8617 - val_loss: 0.3588 - val_accuracy: 0.8567\n",
            "Epoch 57/90\n",
            "140/140 [==============================] - 0s 3ms/step - loss: 0.3280 - accuracy: 0.8634 - val_loss: 0.3612 - val_accuracy: 0.8550\n",
            "Epoch 58/90\n",
            "140/140 [==============================] - 0s 3ms/step - loss: 0.3279 - accuracy: 0.8646 - val_loss: 0.3575 - val_accuracy: 0.8550\n",
            "Epoch 59/90\n",
            "140/140 [==============================] - 1s 4ms/step - loss: 0.3276 - accuracy: 0.8630 - val_loss: 0.3609 - val_accuracy: 0.8590\n",
            "Epoch 60/90\n",
            "140/140 [==============================] - 0s 4ms/step - loss: 0.3275 - accuracy: 0.8637 - val_loss: 0.3594 - val_accuracy: 0.8557\n",
            "Epoch 61/90\n",
            "140/140 [==============================] - 0s 3ms/step - loss: 0.3271 - accuracy: 0.8614 - val_loss: 0.3585 - val_accuracy: 0.8560\n",
            "Epoch 62/90\n",
            "140/140 [==============================] - 1s 4ms/step - loss: 0.3262 - accuracy: 0.8640 - val_loss: 0.3581 - val_accuracy: 0.8577\n",
            "Epoch 63/90\n",
            "140/140 [==============================] - 0s 3ms/step - loss: 0.3273 - accuracy: 0.8619 - val_loss: 0.3570 - val_accuracy: 0.8560\n",
            "Epoch 64/90\n",
            "140/140 [==============================] - 0s 3ms/step - loss: 0.3265 - accuracy: 0.8631 - val_loss: 0.3569 - val_accuracy: 0.8577\n",
            "Epoch 65/90\n",
            "140/140 [==============================] - 0s 3ms/step - loss: 0.3261 - accuracy: 0.8626 - val_loss: 0.3557 - val_accuracy: 0.8567\n",
            "Epoch 66/90\n",
            "140/140 [==============================] - 0s 3ms/step - loss: 0.3267 - accuracy: 0.8600 - val_loss: 0.3571 - val_accuracy: 0.8577\n",
            "Epoch 67/90\n",
            "140/140 [==============================] - 0s 3ms/step - loss: 0.3258 - accuracy: 0.8634 - val_loss: 0.3577 - val_accuracy: 0.8553\n",
            "Epoch 68/90\n",
            "140/140 [==============================] - 0s 3ms/step - loss: 0.3259 - accuracy: 0.8636 - val_loss: 0.3578 - val_accuracy: 0.8513\n",
            "Epoch 69/90\n",
            "140/140 [==============================] - 0s 3ms/step - loss: 0.3252 - accuracy: 0.8621 - val_loss: 0.3549 - val_accuracy: 0.8567\n",
            "Epoch 70/90\n",
            "140/140 [==============================] - 0s 3ms/step - loss: 0.3256 - accuracy: 0.8610 - val_loss: 0.3566 - val_accuracy: 0.8550\n",
            "Epoch 71/90\n",
            "140/140 [==============================] - 1s 4ms/step - loss: 0.3251 - accuracy: 0.8649 - val_loss: 0.3545 - val_accuracy: 0.8560\n",
            "Epoch 72/90\n",
            "140/140 [==============================] - 0s 4ms/step - loss: 0.3253 - accuracy: 0.8633 - val_loss: 0.3537 - val_accuracy: 0.8580\n",
            "Epoch 73/90\n",
            "140/140 [==============================] - 0s 3ms/step - loss: 0.3247 - accuracy: 0.8630 - val_loss: 0.3580 - val_accuracy: 0.8547\n",
            "Epoch 74/90\n",
            "140/140 [==============================] - 0s 3ms/step - loss: 0.3241 - accuracy: 0.8626 - val_loss: 0.3541 - val_accuracy: 0.8573\n",
            "Epoch 75/90\n",
            "140/140 [==============================] - 0s 3ms/step - loss: 0.3239 - accuracy: 0.8647 - val_loss: 0.3555 - val_accuracy: 0.8573\n",
            "Epoch 76/90\n",
            "140/140 [==============================] - 0s 3ms/step - loss: 0.3238 - accuracy: 0.8630 - val_loss: 0.3563 - val_accuracy: 0.8570\n",
            "Epoch 77/90\n",
            "140/140 [==============================] - 0s 4ms/step - loss: 0.3240 - accuracy: 0.8630 - val_loss: 0.3542 - val_accuracy: 0.8573\n",
            "Epoch 78/90\n",
            "140/140 [==============================] - 0s 3ms/step - loss: 0.3234 - accuracy: 0.8657 - val_loss: 0.3552 - val_accuracy: 0.8567\n",
            "Epoch 79/90\n",
            "140/140 [==============================] - 1s 4ms/step - loss: 0.3230 - accuracy: 0.8646 - val_loss: 0.3557 - val_accuracy: 0.8573\n",
            "Epoch 80/90\n",
            "140/140 [==============================] - 1s 4ms/step - loss: 0.3229 - accuracy: 0.8623 - val_loss: 0.3557 - val_accuracy: 0.8577\n",
            "Epoch 81/90\n",
            "140/140 [==============================] - 0s 4ms/step - loss: 0.3235 - accuracy: 0.8643 - val_loss: 0.3561 - val_accuracy: 0.8573\n",
            "Epoch 82/90\n",
            "140/140 [==============================] - 0s 3ms/step - loss: 0.3230 - accuracy: 0.8627 - val_loss: 0.3548 - val_accuracy: 0.8580\n",
            "Epoch 83/90\n",
            "140/140 [==============================] - 0s 3ms/step - loss: 0.3226 - accuracy: 0.8634 - val_loss: 0.3538 - val_accuracy: 0.8570\n",
            "Epoch 84/90\n",
            "140/140 [==============================] - 0s 3ms/step - loss: 0.3222 - accuracy: 0.8637 - val_loss: 0.3542 - val_accuracy: 0.8577\n",
            "Epoch 85/90\n",
            "140/140 [==============================] - 0s 3ms/step - loss: 0.3228 - accuracy: 0.8636 - val_loss: 0.3560 - val_accuracy: 0.8577\n",
            "Epoch 86/90\n",
            "140/140 [==============================] - 0s 3ms/step - loss: 0.3216 - accuracy: 0.8647 - val_loss: 0.3548 - val_accuracy: 0.8580\n",
            "Epoch 87/90\n",
            "140/140 [==============================] - 0s 3ms/step - loss: 0.3217 - accuracy: 0.8636 - val_loss: 0.3542 - val_accuracy: 0.8590\n",
            "Epoch 88/90\n",
            "140/140 [==============================] - 0s 3ms/step - loss: 0.3219 - accuracy: 0.8634 - val_loss: 0.3549 - val_accuracy: 0.8580\n",
            "Epoch 89/90\n",
            "140/140 [==============================] - 0s 3ms/step - loss: 0.3210 - accuracy: 0.8637 - val_loss: 0.3584 - val_accuracy: 0.8567\n",
            "Epoch 90/90\n",
            "140/140 [==============================] - 1s 4ms/step - loss: 0.3215 - accuracy: 0.8644 - val_loss: 0.3576 - val_accuracy: 0.8567\n"
          ],
          "name": "stdout"
        },
        {
          "output_type": "execute_result",
          "data": {
            "text/plain": [
              "<tensorflow.python.keras.callbacks.History at 0x7fcf6989bda0>"
            ]
          },
          "metadata": {
            "tags": []
          },
          "execution_count": 85
        }
      ]
    },
    {
      "cell_type": "code",
      "metadata": {
        "colab": {
          "base_uri": "https://localhost:8080/",
          "height": 255
        },
        "id": "yTU4jFOFxL9G",
        "outputId": "4d14d45c-c975-46b9-d606-ab56f1b65ccc"
      },
      "source": [
        "final_model.summary()"
      ],
      "execution_count": null,
      "outputs": [
        {
          "output_type": "stream",
          "text": [
            "Model: \"sequential\"\n",
            "_________________________________________________________________\n",
            "Layer (type)                 Output Shape              Param #   \n",
            "=================================================================\n",
            "dense (Dense)                (None, 10)                110       \n",
            "_________________________________________________________________\n",
            "dense_1 (Dense)              (None, 40)                440       \n",
            "_________________________________________________________________\n",
            "dense_2 (Dense)              (None, 2)                 82        \n",
            "=================================================================\n",
            "Total params: 632\n",
            "Trainable params: 632\n",
            "Non-trainable params: 0\n",
            "_________________________________________________________________\n"
          ],
          "name": "stdout"
        }
      ]
    },
    {
      "cell_type": "code",
      "metadata": {
        "colab": {
          "base_uri": "https://localhost:8080/",
          "height": 51
        },
        "id": "0q6seZR6xOkx",
        "outputId": "557faa69-b7bb-48c2-ff1d-0aab2f5b7cc2"
      },
      "source": [
        "print (\"Final Train Accuracy from model history: \", final_model.history.history['accuracy'][-1]*100)\n",
        "print (\"Final Test Accuracy from model history: \", final_model.history.history['val_accuracy'][-1]*100)"
      ],
      "execution_count": null,
      "outputs": [
        {
          "output_type": "stream",
          "text": [
            "Final Train Accuracy from model history:  86.44285798072815\n",
            "Final Test Accuracy from model history:  85.66666841506958\n"
          ],
          "name": "stdout"
        }
      ]
    },
    {
      "cell_type": "code",
      "metadata": {
        "colab": {
          "base_uri": "https://localhost:8080/",
          "height": 590
        },
        "id": "cMJXmT-aOvAY",
        "outputId": "5b1aabe4-0d0d-4138-c383-f1dc000de2ff"
      },
      "source": [
        "# list all data in history\n",
        "print(final_model.history.history.keys())\n",
        "\n",
        "# Summary - History for accuracy\n",
        "plt.plot(final_model.history.history['accuracy'], color = 'red')\n",
        "plt.plot(final_model.history.history['val_accuracy'], color = 'green')\n",
        "plt.title('Final Model Accuracy')\n",
        "plt.ylabel('Accuracy')\n",
        "plt.xlabel('Epoch')\n",
        "plt.legend(['train', 'test'], loc='lower right')\n",
        "plt.show()\n",
        "\n",
        "# Summary - History for loss\n",
        "\n",
        "plt.plot(final_model.history.history['loss'], color = 'red')\n",
        "plt.plot(final_model.history.history['val_loss'], color = 'green')\n",
        "plt.title('Final Model Loss')\n",
        "plt.ylabel('Loss')\n",
        "plt.xlabel('Epoch')\n",
        "plt.legend(['train', 'test'], loc='upper right')\n",
        "plt.show();"
      ],
      "execution_count": null,
      "outputs": [
        {
          "output_type": "stream",
          "text": [
            "dict_keys(['loss', 'accuracy', 'val_loss', 'val_accuracy'])\n"
          ],
          "name": "stdout"
        },
        {
          "output_type": "display_data",
          "data": {
            "image/png": "[encoded data removed]",
            "text/plain": [
              "<Figure size 432x288 with 1 Axes>"
            ]
          },
          "metadata": {
            "tags": [],
            "needs_background": "light"
          }
        },
        {
          "output_type": "display_data",
          "data": {
            "image/png": "[encoded data removed]",
            "text/plain": [
              "<Figure size 432x288 with 1 Axes>"
            ]
          },
          "metadata": {
            "tags": [],
            "needs_background": "light"
          }
        }
      ]
    },
    {
      "cell_type": "markdown",
      "metadata": {
        "id": "_QkilJu29wAp"
      },
      "source": [
        " Predict the results using 0.5 as a threshold "
      ]
    },
    {
      "cell_type": "code",
      "metadata": {
        "id": "jeXxpW5H9zQF"
      },
      "source": [
        "# make predictions for the testing set without threshold (default threshold is 0.5 for binary classification)\n",
        "y_pred = final_model.predict(X_test_Z)"
      ],
      "execution_count": null,
      "outputs": []
    },
    {
      "cell_type": "code",
      "metadata": {
        "colab": {
          "base_uri": "https://localhost:8080/",
          "height": 357
        },
        "id": "BVC6R5u99zmV",
        "outputId": "b84ce6bc-c5bc-48fe-fc21-8329039247e9"
      },
      "source": [
        "print (\"Prediction: \", y_pred[:20])"
      ],
      "execution_count": null,
      "outputs": [
        {
          "output_type": "stream",
          "text": [
            "Prediction:  [[0.6285609  0.37231028]\n",
            " [0.9661311  0.03398145]\n",
            " [0.62034345 0.38052386]\n",
            " [0.8803222  0.11852288]\n",
            " [0.9472507  0.05338559]\n",
            " [0.9711963  0.02889308]\n",
            " [0.9937903  0.00627273]\n",
            " [0.8075102  0.19212307]\n",
            " [0.10976573 0.890083  ]\n",
            " [0.99376464 0.00629747]\n",
            " [0.97235686 0.02767735]\n",
            " [0.92213726 0.07713319]\n",
            " [0.96930885 0.03070862]\n",
            " [0.19465038 0.8049888 ]\n",
            " [0.9729921  0.02711225]\n",
            " [0.81839806 0.18071628]\n",
            " [0.94229054 0.05774713]\n",
            " [0.60468525 0.39520252]\n",
            " [0.92308277 0.07679774]\n",
            " [0.9674581  0.03258575]]\n"
          ],
          "name": "stdout"
        }
      ]
    },
    {
      "cell_type": "code",
      "metadata": {
        "colab": {
          "base_uri": "https://localhost:8080/",
          "height": 68
        },
        "id": "qww_Ie51WXA7",
        "outputId": "abe804b1-6821-4f32-be16-9b8e1c974d38"
      },
      "source": [
        "# Make predictions for the testing set with threshold 0.5\n",
        "y_pred_threshold = (final_model.predict_proba(X_test_Z) >= 0.5)"
      ],
      "execution_count": null,
      "outputs": [
        {
          "output_type": "stream",
          "text": [
            "WARNING:tensorflow:From <ipython-input-92-e05a71bb4b84>:2: Sequential.predict_proba (from tensorflow.python.keras.engine.sequential) is deprecated and will be removed after 2021-01-01.\n",
            "Instructions for updating:\n",
            "Please use `model.predict()` instead.\n"
          ],
          "name": "stdout"
        }
      ]
    },
    {
      "cell_type": "code",
      "metadata": {
        "colab": {
          "base_uri": "https://localhost:8080/",
          "height": 357
        },
        "id": "NnY5y4XnWj5x",
        "outputId": "da3e8c4a-736e-468f-ff29-17cb4ed1b0dc"
      },
      "source": [
        "print (\"Prediction: \", y_pred_threshold[:20])"
      ],
      "execution_count": null,
      "outputs": [
        {
          "output_type": "stream",
          "text": [
            "Prediction:  [[ True False]\n",
            " [ True False]\n",
            " [ True False]\n",
            " [ True False]\n",
            " [ True False]\n",
            " [ True False]\n",
            " [ True False]\n",
            " [ True False]\n",
            " [False  True]\n",
            " [ True False]\n",
            " [ True False]\n",
            " [ True False]\n",
            " [ True False]\n",
            " [False  True]\n",
            " [ True False]\n",
            " [ True False]\n",
            " [ True False]\n",
            " [ True False]\n",
            " [ True False]\n",
            " [ True False]]\n"
          ],
          "name": "stdout"
        }
      ]
    },
    {
      "cell_type": "markdown",
      "metadata": {
        "id": "WNT43krn90Bk"
      },
      "source": [
        "10. Print the Accuracy score and confusion matrix "
      ]
    },
    {
      "cell_type": "markdown",
      "metadata": {
        "id": "LH7bOu8qW3bw"
      },
      "source": [
        "- Accuracy Scores for with and without threshold of 0.5"
      ]
    },
    {
      "cell_type": "code",
      "metadata": {
        "id": "Iv_9y6cGXgPi"
      },
      "source": [
        "from sklearn import metrics"
      ],
      "execution_count": null,
      "outputs": []
    },
    {
      "cell_type": "code",
      "metadata": {
        "colab": {
          "base_uri": "https://localhost:8080/",
          "height": 51
        },
        "id": "zbf8RVbA9vwt",
        "outputId": "a8143b18-f0ed-4d22-9d5f-aeeeb365c0c0"
      },
      "source": [
        "# Accuracy score for predictions with & without threshold\n",
        "print (\"Accuracy score for predictions without thershold: \", metrics.accuracy_score(y_test_OH, y_pred.round())*100)\n",
        "print (\"Accuracy score for predictions with threshold of 0.5: \", metrics.accuracy_score(y_test_OH, y_pred_threshold)*100)"
      ],
      "execution_count": null,
      "outputs": [
        {
          "output_type": "stream",
          "text": [
            "Accuracy score for predictions without thershold:  85.63333333333333\n",
            "Accuracy score for predictions with threshold of 0.5:  85.63333333333333\n"
          ],
          "name": "stdout"
        }
      ]
    },
    {
      "cell_type": "markdown",
      "metadata": {
        "id": "nlslXmgJY18D"
      },
      "source": [
        "- Confusion Matrix"
      ]
    },
    {
      "cell_type": "code",
      "metadata": {
        "colab": {
          "base_uri": "https://localhost:8080/",
          "height": 128
        },
        "id": "v9A-wz1e9vi6",
        "outputId": "b3ba0332-e831-41ad-cb54-5d32db54d7fc"
      },
      "source": [
        "print (\"Confusion Matrix for predictions without threshold\")\n",
        "pd.DataFrame(metrics.confusion_matrix(y_test_OH.argmax(axis=1), y_pred.argmax(axis=1)),\n",
        "                 columns=['Predicted_Negative', 'Predicted_Negative'], index=['Negative', 'Positive'])"
      ],
      "execution_count": null,
      "outputs": [
        {
          "output_type": "stream",
          "text": [
            "Confusion Matrix for predictions without threshold\n"
          ],
          "name": "stdout"
        },
        {
          "output_type": "execute_result",
          "data": {
            "text/html": [
              "<div>\n",
              "<style scoped>\n",
              "    .dataframe tbody tr th:only-of-type {\n",
              "        vertical-align: middle;\n",
              "    }\n",
              "\n",
              "    .dataframe tbody tr th {\n",
              "        vertical-align: top;\n",
              "    }\n",
              "\n",
              "    .dataframe thead th {\n",
              "        text-align: right;\n",
              "    }\n",
              "</style>\n",
              "<table border=\"1\" class=\"dataframe\">\n",
              "  <thead>\n",
              "    <tr style=\"text-align: right;\">\n",
              "      <th></th>\n",
              "      <th>Predicted_Negative</th>\n",
              "      <th>Predicted_Negative</th>\n",
              "    </tr>\n",
              "  </thead>\n",
              "  <tbody>\n",
              "    <tr>\n",
              "      <th>Negative</th>\n",
              "      <td>2293</td>\n",
              "      <td>108</td>\n",
              "    </tr>\n",
              "    <tr>\n",
              "      <th>Positive</th>\n",
              "      <td>322</td>\n",
              "      <td>277</td>\n",
              "    </tr>\n",
              "  </tbody>\n",
              "</table>\n",
              "</div>"
            ],
            "text/plain": [
              "          Predicted_Negative  Predicted_Negative\n",
              "Negative                2293                 108\n",
              "Positive                 322                 277"
            ]
          },
          "metadata": {
            "tags": []
          },
          "execution_count": 98
        }
      ]
    },
    {
      "cell_type": "code",
      "metadata": {
        "colab": {
          "base_uri": "https://localhost:8080/",
          "height": 128
        },
        "id": "V-Ex-FI3ZrKA",
        "outputId": "9017e16f-5a4d-4cbb-8713-0c2c80193549"
      },
      "source": [
        "print (\"Confusion Matrix for predictions with specified threshold of 0.5\")\n",
        "pd.DataFrame(metrics.confusion_matrix(y_test_OH.argmax(axis=1), y_pred_threshold.argmax(axis=1)),\n",
        "                 columns=['Predicted_Negative', 'Predicted_Negative'], index=['Negative', 'Positive'])"
      ],
      "execution_count": null,
      "outputs": [
        {
          "output_type": "stream",
          "text": [
            "Confusion Matrix for predictions with specified threshold of 0.5\n"
          ],
          "name": "stdout"
        },
        {
          "output_type": "execute_result",
          "data": {
            "text/html": [
              "<div>\n",
              "<style scoped>\n",
              "    .dataframe tbody tr th:only-of-type {\n",
              "        vertical-align: middle;\n",
              "    }\n",
              "\n",
              "    .dataframe tbody tr th {\n",
              "        vertical-align: top;\n",
              "    }\n",
              "\n",
              "    .dataframe thead th {\n",
              "        text-align: right;\n",
              "    }\n",
              "</style>\n",
              "<table border=\"1\" class=\"dataframe\">\n",
              "  <thead>\n",
              "    <tr style=\"text-align: right;\">\n",
              "      <th></th>\n",
              "      <th>Predicted_Negative</th>\n",
              "      <th>Predicted_Negative</th>\n",
              "    </tr>\n",
              "  </thead>\n",
              "  <tbody>\n",
              "    <tr>\n",
              "      <th>Negative</th>\n",
              "      <td>2293</td>\n",
              "      <td>108</td>\n",
              "    </tr>\n",
              "    <tr>\n",
              "      <th>Positive</th>\n",
              "      <td>322</td>\n",
              "      <td>277</td>\n",
              "    </tr>\n",
              "  </tbody>\n",
              "</table>\n",
              "</div>"
            ],
            "text/plain": [
              "          Predicted_Negative  Predicted_Negative\n",
              "Negative                2293                 108\n",
              "Positive                 322                 277"
            ]
          },
          "metadata": {
            "tags": []
          },
          "execution_count": 99
        }
      ]
    },
    {
      "cell_type": "code",
      "metadata": {
        "colab": {
          "base_uri": "https://localhost:8080/",
          "height": 204
        },
        "id": "DfYpCjGyabPR",
        "outputId": "35487320-eaa4-4c37-98b7-d3a0e8e23741"
      },
      "source": [
        "from sklearn.metrics import classification_report\n",
        "print (\"Classification Report for predictions without threshold\")\n",
        "print(classification_report(y_test_OH, y_pred.round()))"
      ],
      "execution_count": null,
      "outputs": [
        {
          "output_type": "stream",
          "text": [
            "Classification Report for predictions without threshold\n",
            "              precision    recall  f1-score   support\n",
            "\n",
            "           0       0.88      0.96      0.91      2401\n",
            "           1       0.72      0.46      0.56       599\n",
            "\n",
            "   micro avg       0.86      0.86      0.86      3000\n",
            "   macro avg       0.80      0.71      0.74      3000\n",
            "weighted avg       0.85      0.86      0.84      3000\n",
            " samples avg       0.86      0.86      0.86      3000\n",
            "\n"
          ],
          "name": "stdout"
        }
      ]
    },
    {
      "cell_type": "code",
      "metadata": {
        "colab": {
          "base_uri": "https://localhost:8080/",
          "height": 204
        },
        "id": "xj1C295QanhC",
        "outputId": "2b6cc9f8-aa7e-43c3-b182-5705ac9fcf70"
      },
      "source": [
        "print (\"Classification Report for predictions with threshold of 0.5\")\n",
        "print(classification_report(y_test_OH, y_pred_threshold))"
      ],
      "execution_count": null,
      "outputs": [
        {
          "output_type": "stream",
          "text": [
            "Classification Report for predictions with threshold of 0.5\n",
            "              precision    recall  f1-score   support\n",
            "\n",
            "           0       0.88      0.96      0.91      2401\n",
            "           1       0.72      0.46      0.56       599\n",
            "\n",
            "   micro avg       0.86      0.86      0.86      3000\n",
            "   macro avg       0.80      0.71      0.74      3000\n",
            "weighted avg       0.85      0.86      0.84      3000\n",
            " samples avg       0.86      0.86      0.86      3000\n",
            "\n"
          ],
          "name": "stdout"
        }
      ]
    },
    {
      "cell_type": "markdown",
      "metadata": {
        "id": "I6Ps01c8a_cb"
      },
      "source": [
        "##Observations:\n",
        "For binary classification by default the threshold is 0.5. So there is no difference in the accuracy score or classification report with and without specifying the 0.5 threshold."
      ]
    }
  ]
}